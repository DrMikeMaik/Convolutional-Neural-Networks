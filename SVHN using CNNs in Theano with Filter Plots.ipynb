{
 "cells": [
  {
   "cell_type": "code",
   "execution_count": 1,
   "metadata": {
    "collapsed": true
   },
   "outputs": [],
   "source": [
    "import numpy as np\n",
    "import pandas as pd\n",
    "import matplotlib.pyplot as plt\n",
    "import theano\n",
    "import theano.tensor as T"
   ]
  },
  {
   "cell_type": "code",
   "execution_count": 2,
   "metadata": {
    "collapsed": true
   },
   "outputs": [],
   "source": [
    "from theano.tensor.nnet import conv2d\n",
    "from theano.tensor.signal import pool"
   ]
  },
  {
   "cell_type": "code",
   "execution_count": 3,
   "metadata": {
    "collapsed": true
   },
   "outputs": [],
   "source": [
    "from scipy.io import loadmat\n",
    "from sklearn.utils import shuffle"
   ]
  },
  {
   "cell_type": "code",
   "execution_count": 4,
   "metadata": {
    "collapsed": true
   },
   "outputs": [],
   "source": [
    "from datetime import datetime"
   ]
  },
  {
   "cell_type": "code",
   "execution_count": 5,
   "metadata": {
    "collapsed": true
   },
   "outputs": [],
   "source": [
    "def error_rate(p, t):\n",
    "    return np.mean(p!=t)"
   ]
  },
  {
   "cell_type": "code",
   "execution_count": 6,
   "metadata": {
    "collapsed": true
   },
   "outputs": [],
   "source": [
    "def relu(a):\n",
    "    return a*(a>0)"
   ]
  },
  {
   "cell_type": "code",
   "execution_count": 8,
   "metadata": {
    "collapsed": true
   },
   "outputs": [],
   "source": [
    "def y2indicator(y):\n",
    "    N = len(y)\n",
    "    ind = np.zeros((N, 10))\n",
    "    for i in range(N):\n",
    "        ind[i, y[i]] = 1\n",
    "    return ind"
   ]
  },
  {
   "cell_type": "code",
   "execution_count": 9,
   "metadata": {
    "collapsed": true
   },
   "outputs": [],
   "source": [
    "def conv_pool(X, W, b, poolsize=(2,2)):\n",
    "    conv_out = conv2d(input=X, filters=W)\n",
    "    pool_out = pool.pool_2d(\n",
    "        input=conv_out,\n",
    "        ws=poolsize,\n",
    "        ignore_border=True\n",
    "    )\n",
    "\n",
    "    return relu(pool_out + b.dimshuffle('x', 0, 'x', 'x'))"
   ]
  },
  {
   "cell_type": "code",
   "execution_count": 10,
   "metadata": {
    "collapsed": true
   },
   "outputs": [],
   "source": [
    "def init_filter(shape, poolsz):\n",
    "    w = np.random.randn(*shape) / np.sqrt(np.prod(shape[:-1]) + shape[-1]*np.prod(shape[:-2] / np.prod(poolsz)))\n",
    "    return w.astype(np.float32)"
   ]
  },
  {
   "cell_type": "code",
   "execution_count": 11,
   "metadata": {
    "collapsed": true
   },
   "outputs": [],
   "source": [
    "def rearrange(X):\n",
    "    return (X.transpose(3, 2, 0, 1) / 255).astype(np.float32)"
   ]
  },
  {
   "cell_type": "code",
   "execution_count": 12,
   "metadata": {
    "collapsed": true
   },
   "outputs": [],
   "source": [
    "train = loadmat('./SVHN/train_32x32.mat')\n",
    "test = loadmat('./SVHN/test_32x32.mat')\n",
    "\n",
    "Xtrain = rearrange(train['X'])\n",
    "Ytrain = train['y'].flatten() - 1\n",
    "del train\n",
    "Xtrain, Ytrain = shuffle(Xtrain, Ytrain)\n",
    "Ytrain_ind = y2indicator(Ytrain)\n",
    "\n",
    "Xtest = rearrange(test['X'])\n",
    "Ytest = test['y'].flatten() - 1\n",
    "del test\n",
    "Ytest_ind = y2indicator(Ytest)"
   ]
  },
  {
   "cell_type": "code",
   "execution_count": 13,
   "metadata": {
    "collapsed": true
   },
   "outputs": [],
   "source": [
    "max_iter = 20\n",
    "print_period = 10\n",
    "lr = np.float32(0.00001)\n",
    "reg = np.float32(0.01)\n",
    "mu = np.float32(0.99)"
   ]
  },
  {
   "cell_type": "code",
   "execution_count": 14,
   "metadata": {
    "collapsed": true
   },
   "outputs": [],
   "source": [
    "N = Xtrain.shape[0]\n",
    "batch_sz = 500\n",
    "n_batch = N // batch_sz"
   ]
  },
  {
   "cell_type": "code",
   "execution_count": 15,
   "metadata": {
    "collapsed": true
   },
   "outputs": [],
   "source": [
    "M = 500\n",
    "K = 10\n",
    "poolsz = (2, 2)"
   ]
  },
  {
   "cell_type": "code",
   "execution_count": 16,
   "metadata": {
    "collapsed": true
   },
   "outputs": [],
   "source": [
    "W1_shape = (20, 3, 5, 5)\n",
    "W1_init = init_filter(W1_shape, poolsz)\n",
    "b1_init = np.zeros(W1_shape[0], dtype=np.float32)\n",
    "\n",
    "W2_shape = (50, 20, 5, 5)\n",
    "W2_init = init_filter(W2_shape, poolsz)\n",
    "b2_init = np.zeros(W2_shape[0], dtype=np.float32)\n",
    "\n",
    "W3_init = np.random.randn(W2_shape[0]*5*5, M) / np.sqrt(W2_shape[0]*5*5 + M)\n",
    "b3_init = np.zeros(M, dtype=np.float32)\n",
    "\n",
    "W4_init = np.random.randn(M, K) / np.sqrt(M + K)\n",
    "b4_init = np.zeros(K, dtype=np.float32)\n",
    "\n",
    "X = T.tensor4('X', dtype='float32')\n",
    "Y = T.matrix('T')"
   ]
  },
  {
   "cell_type": "code",
   "execution_count": 17,
   "metadata": {
    "collapsed": true
   },
   "outputs": [],
   "source": [
    "W1 = theano.shared(W1_init, 'W1')\n",
    "b1 = theano.shared(b1_init, 'b1')\n",
    "W2 = theano.shared(W2_init, 'W2')\n",
    "b2 = theano.shared(b2_init, 'b2')\n",
    "W3 = theano.shared(W3_init.astype(np.float32), 'W3')\n",
    "b3 = theano.shared(b3_init, 'b3')\n",
    "W4 = theano.shared(W4_init.astype(np.float32), 'W4')\n",
    "b4 = theano.shared(b4_init, 'b4')\n",
    "\n",
    "dW1 = theano.shared(np.zeros(W1_init.shape, dtype=np.float32), 'dW1')\n",
    "db1 = theano.shared(np.zeros(b1_init.shape, dtype=np.float32), 'db1')\n",
    "dW2 = theano.shared(np.zeros(W2_init.shape, dtype=np.float32), 'dW2')\n",
    "db2 = theano.shared(np.zeros(b2_init.shape, dtype=np.float32), 'db2')\n",
    "dW3 = theano.shared(np.zeros(W3_init.shape, dtype=np.float32), 'dW3')\n",
    "db3 = theano.shared(np.zeros(b3_init.shape, dtype=np.float32), 'db3')\n",
    "dW4 = theano.shared(np.zeros(W4_init.shape, dtype=np.float32), 'dW4')\n",
    "db4 = theano.shared(np.zeros(b4_init.shape, dtype=np.float32), 'db4')"
   ]
  },
  {
   "cell_type": "code",
   "execution_count": 18,
   "metadata": {
    "collapsed": true
   },
   "outputs": [],
   "source": [
    "Z1 = conv_pool(X, W1, b1)\n",
    "Z2 = conv_pool(Z1, W2, b2)\n",
    "Z3 = relu(Z2.flatten(ndim=2).dot(W3) + b3)\n",
    "pY = T.nnet.softmax(Z3.dot(W4) + b4)\n",
    "\n",
    "params = (W1, b1, W2, b2, W3, b3, W4, b4)\n",
    "reg_cost = reg*np.sum((param*param).sum() for param in params)\n",
    "cost = -(Y * T.log(pY)).sum() + reg_cost\n",
    "prediction = T.argmax(pY, axis=1)\n",
    "\n",
    "update_W1 = W1 + mu*dW1 - lr*T.grad(cost, W1)\n",
    "update_b1 = b1 + mu*db1 - lr*T.grad(cost, b1)\n",
    "update_W2 = W2 + mu*dW2 - lr*T.grad(cost, W2)\n",
    "update_b2 = b2 + mu*db2 - lr*T.grad(cost, b2)\n",
    "update_W3 = W3 + mu*dW3 - lr*T.grad(cost, W3)\n",
    "update_b3 = b3 + mu*db3 - lr*T.grad(cost, b3)\n",
    "update_W4 = W4 + mu*dW4 - lr*T.grad(cost, W4)\n",
    "update_b4 = b4 + mu*db4 - lr*T.grad(cost, b4)\n",
    "\n",
    "update_dW1 = mu*dW1 - lr*T.grad(cost, W1)\n",
    "update_db1 = mu*db1 - lr*T.grad(cost, b1)\n",
    "update_dW2 = mu*dW2 - lr*T.grad(cost, W2)\n",
    "update_db2 = mu*db2 - lr*T.grad(cost, b2)\n",
    "update_dW3 = mu*dW3 - lr*T.grad(cost, W3)\n",
    "update_db3 = mu*db3 - lr*T.grad(cost, b3)\n",
    "update_dW4 = mu*dW4 - lr*T.grad(cost, W4)\n",
    "update_db4 = mu*db4 - lr*T.grad(cost, b4)\n",
    "\n",
    "train = theano.function(\n",
    "    inputs=[X, Y],\n",
    "    updates=[\n",
    "        (W1, update_W1),\n",
    "        (b1, update_b1),\n",
    "        (W2, update_W2),\n",
    "        (b2, update_b2),\n",
    "        (W3, update_W3),\n",
    "        (b3, update_b3),\n",
    "        (W4, update_W4),\n",
    "        (b4, update_b4),\n",
    "        (dW1, update_dW1),\n",
    "        (db1, update_db1),\n",
    "        (dW2, update_dW2),\n",
    "        (db2, update_db2),\n",
    "        (dW3, update_dW3),\n",
    "        (db3, update_db3),\n",
    "        (dW4, update_dW4),\n",
    "        (db4, update_db4)\n",
    "    ]\n",
    ")\n",
    "\n",
    "get_prediction = theano.function(\n",
    "    inputs= [X,Y],\n",
    "    outputs = [cost, prediction]\n",
    ")"
   ]
  },
  {
   "cell_type": "code",
   "execution_count": 19,
   "metadata": {},
   "outputs": [
    {
     "name": "stdout",
     "output_type": "stream",
     "text": [
      "Cost/err at iteration: i=0, j=0: 59816.527/0.910\n",
      "Cost/err at iteration: i=0, j=10: 58998.895/0.804\n",
      "Cost/err at iteration: i=0, j=20: 58888.539/0.804\n",
      "Cost/err at iteration: i=0, j=30: 58366.440/0.808\n",
      "Cost/err at iteration: i=0, j=40: 58836.900/0.810\n",
      "Cost/err at iteration: i=0, j=50: 58672.834/0.804\n",
      "Cost/err at iteration: i=0, j=60: 58336.789/0.804\n",
      "Cost/err at iteration: i=0, j=70: 58042.883/0.804\n",
      "Cost/err at iteration: i=0, j=80: 57920.852/0.804\n",
      "Cost/err at iteration: i=0, j=90: 58002.153/0.804\n",
      "Cost/err at iteration: i=0, j=100: 58035.171/0.804\n",
      "Cost/err at iteration: i=0, j=110: 57983.305/0.804\n",
      "Cost/err at iteration: i=0, j=120: 57932.001/0.804\n",
      "Cost/err at iteration: i=0, j=130: 57904.860/0.804\n",
      "Cost/err at iteration: i=0, j=140: 57907.152/0.804\n",
      "Cost/err at iteration: i=1, j=0: 57916.005/0.804\n",
      "Cost/err at iteration: i=1, j=10: 57933.854/0.804\n",
      "Cost/err at iteration: i=1, j=20: 57941.020/0.804\n",
      "Cost/err at iteration: i=1, j=30: 57940.271/0.804\n",
      "Cost/err at iteration: i=1, j=40: 57934.187/0.804\n",
      "Cost/err at iteration: i=1, j=50: 57928.416/0.804\n",
      "Cost/err at iteration: i=1, j=60: 57922.774/0.804\n",
      "Cost/err at iteration: i=1, j=70: 57914.358/0.804\n",
      "Cost/err at iteration: i=1, j=80: 57906.656/0.804\n",
      "Cost/err at iteration: i=1, j=90: 57901.419/0.804\n",
      "Cost/err at iteration: i=1, j=100: 57899.850/0.804\n",
      "Cost/err at iteration: i=1, j=110: 57897.777/0.804\n",
      "Cost/err at iteration: i=1, j=120: 57899.799/0.804\n",
      "Cost/err at iteration: i=1, j=130: 57906.323/0.804\n",
      "Cost/err at iteration: i=1, j=140: 57913.294/0.804\n",
      "Cost/err at iteration: i=2, j=0: 57916.449/0.804\n",
      "Cost/err at iteration: i=2, j=10: 57919.657/0.804\n",
      "Cost/err at iteration: i=2, j=20: 57913.292/0.804\n",
      "Cost/err at iteration: i=2, j=30: 57905.455/0.804\n",
      "Cost/err at iteration: i=2, j=40: 57897.680/0.804\n",
      "Cost/err at iteration: i=2, j=50: 57892.632/0.804\n",
      "Cost/err at iteration: i=2, j=60: 57888.466/0.804\n",
      "Cost/err at iteration: i=2, j=70: 57884.068/0.804\n",
      "Cost/err at iteration: i=2, j=80: 57882.589/0.804\n",
      "Cost/err at iteration: i=2, j=90: 57884.598/0.804\n",
      "Cost/err at iteration: i=2, j=100: 57889.691/0.804\n",
      "Cost/err at iteration: i=2, j=110: 57894.076/0.804\n",
      "Cost/err at iteration: i=2, j=120: 57900.913/0.804\n",
      "Cost/err at iteration: i=2, j=130: 57910.106/0.804\n",
      "Cost/err at iteration: i=2, j=140: 57920.237/0.804\n",
      "Cost/err at iteration: i=3, j=0: 57925.374/0.804\n",
      "Cost/err at iteration: i=3, j=10: 57930.387/0.804\n",
      "Cost/err at iteration: i=3, j=20: 57924.938/0.804\n",
      "Cost/err at iteration: i=3, j=30: 57916.288/0.804\n",
      "Cost/err at iteration: i=3, j=40: 57907.414/0.804\n",
      "Cost/err at iteration: i=3, j=50: 57901.003/0.804\n",
      "Cost/err at iteration: i=3, j=60: 57895.630/0.804\n",
      "Cost/err at iteration: i=3, j=70: 57889.596/0.804\n",
      "Cost/err at iteration: i=3, j=80: 57885.815/0.804\n",
      "Cost/err at iteration: i=3, j=90: 57885.220/0.804\n",
      "Cost/err at iteration: i=3, j=100: 57887.709/0.804\n",
      "Cost/err at iteration: i=3, j=110: 57890.256/0.804\n",
      "Cost/err at iteration: i=3, j=120: 57894.909/0.804\n",
      "Cost/err at iteration: i=3, j=130: 57901.833/0.804\n",
      "Cost/err at iteration: i=3, j=140: 57909.810/0.804\n",
      "Cost/err at iteration: i=4, j=0: 57914.102/0.804\n",
      "Cost/err at iteration: i=4, j=10: 57919.457/0.804\n",
      "Cost/err at iteration: i=4, j=20: 57916.378/0.804\n",
      "Cost/err at iteration: i=4, j=30: 57910.670/0.804\n",
      "Cost/err at iteration: i=4, j=40: 57904.430/0.804\n",
      "Cost/err at iteration: i=4, j=50: 57899.976/0.804\n",
      "Cost/err at iteration: i=4, j=60: 57895.819/0.804\n",
      "Cost/err at iteration: i=4, j=70: 57890.583/0.804\n",
      "Cost/err at iteration: i=4, j=80: 57887.499/0.804\n",
      "Cost/err at iteration: i=4, j=90: 57887.155/0.804\n",
      "Cost/err at iteration: i=4, j=100: 57889.724/0.804\n",
      "Cost/err at iteration: i=4, j=110: 57891.915/0.804\n",
      "Cost/err at iteration: i=4, j=120: 57896.372/0.804\n",
      "Cost/err at iteration: i=4, j=130: 57903.030/0.804\n",
      "Cost/err at iteration: i=4, j=140: 57910.528/0.804\n",
      "Cost/err at iteration: i=5, j=0: 57914.484/0.804\n",
      "Cost/err at iteration: i=5, j=10: 57919.201/0.804\n",
      "Cost/err at iteration: i=5, j=20: 57915.854/0.804\n",
      "Cost/err at iteration: i=5, j=30: 57910.168/0.804\n",
      "Cost/err at iteration: i=5, j=40: 57904.155/0.804\n",
      "Cost/err at iteration: i=5, j=50: 57900.070/0.804\n",
      "Cost/err at iteration: i=5, j=60: 57896.237/0.804\n",
      "Cost/err at iteration: i=5, j=70: 57891.132/0.804\n",
      "Cost/err at iteration: i=5, j=80: 57888.038/0.804\n",
      "Cost/err at iteration: i=5, j=90: 57887.642/0.804\n",
      "Cost/err at iteration: i=5, j=100: 57890.032/0.804\n",
      "Cost/err at iteration: i=5, j=110: 57892.004/0.804\n",
      "Cost/err at iteration: i=5, j=120: 57896.256/0.804\n",
      "Cost/err at iteration: i=5, j=130: 57902.677/0.804\n",
      "Cost/err at iteration: i=5, j=140: 57909.933/0.804\n",
      "Cost/err at iteration: i=6, j=0: 57913.738/0.804\n",
      "Cost/err at iteration: i=6, j=10: 57918.215/0.804\n",
      "Cost/err at iteration: i=6, j=20: 57914.771/0.804\n",
      "Cost/err at iteration: i=6, j=30: 57909.010/0.804\n",
      "Cost/err at iteration: i=6, j=40: 57903.029/0.804\n",
      "Cost/err at iteration: i=6, j=50: 57899.043/0.804\n",
      "Cost/err at iteration: i=6, j=60: 57895.421/0.804\n",
      "Cost/err at iteration: i=6, j=70: 57890.591/0.804\n",
      "Cost/err at iteration: i=6, j=80: 57887.696/0.804\n",
      "Cost/err at iteration: i=6, j=90: 57887.368/0.804\n",
      "Cost/err at iteration: i=6, j=100: 57889.793/0.804\n",
      "Cost/err at iteration: i=6, j=110: 57891.794/0.804\n",
      "Cost/err at iteration: i=6, j=120: 57896.090/0.804\n",
      "Cost/err at iteration: i=6, j=130: 57902.640/0.804\n",
      "Cost/err at iteration: i=6, j=140: 57909.994/0.804\n",
      "Cost/err at iteration: i=7, j=0: 57913.841/0.804\n",
      "Cost/err at iteration: i=7, j=10: 57918.419/0.804\n",
      "Cost/err at iteration: i=7, j=20: 57915.147/0.804\n",
      "Cost/err at iteration: i=7, j=30: 57909.527/0.804\n",
      "Cost/err at iteration: i=7, j=40: 57903.576/0.804\n",
      "Cost/err at iteration: i=7, j=50: 57899.588/0.804\n",
      "Cost/err at iteration: i=7, j=60: 57895.923/0.804\n",
      "Cost/err at iteration: i=7, j=70: 57891.015/0.804\n",
      "Cost/err at iteration: i=7, j=80: 57888.015/0.804\n",
      "Cost/err at iteration: i=7, j=90: 57887.553/0.804\n",
      "Cost/err at iteration: i=7, j=100: 57889.753/0.804\n",
      "Cost/err at iteration: i=7, j=110: 57891.474/0.804\n",
      "Cost/err at iteration: i=7, j=120: 57895.492/0.804\n",
      "Cost/err at iteration: i=7, j=130: 57901.797/0.804\n",
      "Cost/err at iteration: i=7, j=140: 57908.997/0.804\n",
      "Cost/err at iteration: i=8, j=0: 57912.814/0.804\n",
      "Cost/err at iteration: i=8, j=10: 57917.422/0.804\n",
      "Cost/err at iteration: i=8, j=20: 57914.393/0.804\n",
      "Cost/err at iteration: i=8, j=30: 57909.079/0.804\n",
      "Cost/err at iteration: i=8, j=40: 57903.388/0.804\n",
      "Cost/err at iteration: i=8, j=50: 57899.571/0.804\n",
      "Cost/err at iteration: i=8, j=60: 57896.037/0.804\n",
      "Cost/err at iteration: i=8, j=70: 57891.224/0.804\n",
      "Cost/err at iteration: i=8, j=80: 57888.212/0.804\n",
      "Cost/err at iteration: i=8, j=90: 57887.736/0.804\n",
      "Cost/err at iteration: i=8, j=100: 57889.899/0.804\n",
      "Cost/err at iteration: i=8, j=110: 57891.575/0.804\n",
      "Cost/err at iteration: i=8, j=120: 57895.473/0.804\n",
      "Cost/err at iteration: i=8, j=130: 57901.623/0.804\n",
      "Cost/err at iteration: i=8, j=140: 57908.633/0.804\n",
      "Cost/err at iteration: i=9, j=0: 57912.353/0.804\n",
      "Cost/err at iteration: i=9, j=10: 57916.875/0.804\n",
      "Cost/err at iteration: i=9, j=20: 57913.969/0.804\n",
      "Cost/err at iteration: i=9, j=30: 57908.850/0.804\n",
      "Cost/err at iteration: i=9, j=40: 57903.332/0.804\n",
      "Cost/err at iteration: i=9, j=50: 57899.652/0.804\n",
      "Cost/err at iteration: i=9, j=60: 57896.238/0.804\n",
      "Cost/err at iteration: i=9, j=70: 57891.513/0.804\n",
      "Cost/err at iteration: i=9, j=80: 57888.524/0.804\n",
      "Cost/err at iteration: i=9, j=90: 57888.015/0.804\n",
      "Cost/err at iteration: i=9, j=100: 57890.104/0.804\n",
      "Cost/err at iteration: i=9, j=110: 57891.665/0.804\n",
      "Cost/err at iteration: i=9, j=120: 57895.441/0.804\n",
      "Cost/err at iteration: i=9, j=130: 57901.473/0.804\n",
      "Cost/err at iteration: i=9, j=140: 57908.373/0.804\n",
      "Cost/err at iteration: i=10, j=0: 57912.028/0.804\n",
      "Cost/err at iteration: i=10, j=10: 57916.461/0.804\n",
      "Cost/err at iteration: i=10, j=20: 57913.557/0.804\n",
      "Cost/err at iteration: i=10, j=30: 57908.523/0.804\n",
      "Cost/err at iteration: i=10, j=40: 57903.106/0.804\n",
      "Cost/err at iteration: i=10, j=50: 57899.510/0.804\n",
      "Cost/err at iteration: i=10, j=60: 57896.176/0.804\n",
      "Cost/err at iteration: i=10, j=70: 57891.534/0.804\n",
      "Cost/err at iteration: i=10, j=80: 57888.586/0.804\n",
      "Cost/err at iteration: i=10, j=90: 57888.091/0.804\n",
      "Cost/err at iteration: i=10, j=100: 57890.170/0.804\n",
      "Cost/err at iteration: i=10, j=110: 57891.704/0.804\n",
      "Cost/err at iteration: i=10, j=120: 57895.435/0.804\n"
     ]
    },
    {
     "name": "stdout",
     "output_type": "stream",
     "text": [
      "Cost/err at iteration: i=10, j=130: 57901.413/0.804\n",
      "Cost/err at iteration: i=10, j=140: 57908.237/0.804\n",
      "Cost/err at iteration: i=11, j=0: 57911.842/0.804\n",
      "Cost/err at iteration: i=11, j=10: 57916.241/0.804\n",
      "Cost/err at iteration: i=11, j=20: 57913.407/0.804\n",
      "Cost/err at iteration: i=11, j=30: 57908.456/0.804\n",
      "Cost/err at iteration: i=11, j=40: 57903.097/0.804\n",
      "Cost/err at iteration: i=11, j=50: 57899.547/0.804\n",
      "Cost/err at iteration: i=11, j=60: 57896.259/0.804\n",
      "Cost/err at iteration: i=11, j=70: 57891.654/0.804\n",
      "Cost/err at iteration: i=11, j=80: 57888.713/0.804\n",
      "Cost/err at iteration: i=11, j=90: 57888.199/0.804\n",
      "Cost/err at iteration: i=11, j=100: 57890.230/0.804\n",
      "Cost/err at iteration: i=11, j=110: 57891.700/0.804\n",
      "Cost/err at iteration: i=11, j=120: 57895.342/0.804\n",
      "Cost/err at iteration: i=11, j=130: 57901.214/0.804\n",
      "Cost/err at iteration: i=11, j=140: 57907.934/0.804\n",
      "Cost/err at iteration: i=12, j=0: 57911.497/0.804\n",
      "Cost/err at iteration: i=12, j=10: 57915.857/0.804\n",
      "Cost/err at iteration: i=12, j=20: 57913.101/0.804\n",
      "Cost/err at iteration: i=12, j=30: 57908.244/0.804\n",
      "Cost/err at iteration: i=12, j=40: 57902.995/0.804\n",
      "Cost/err at iteration: i=12, j=50: 57899.532/0.804\n",
      "Cost/err at iteration: i=12, j=60: 57896.309/0.804\n",
      "Cost/err at iteration: i=12, j=70: 57891.755/0.804\n",
      "Cost/err at iteration: i=12, j=80: 57888.828/0.804\n",
      "Cost/err at iteration: i=12, j=90: 57888.303/0.804\n",
      "Cost/err at iteration: i=12, j=100: 57890.308/0.804\n",
      "Cost/err at iteration: i=12, j=110: 57891.750/0.804\n",
      "Cost/err at iteration: i=12, j=120: 57895.335/0.804\n",
      "Cost/err at iteration: i=12, j=130: 57901.132/0.804\n",
      "Cost/err at iteration: i=12, j=140: 57907.753/0.804\n",
      "Cost/err at iteration: i=13, j=0: 57911.256/0.804\n",
      "Cost/err at iteration: i=13, j=10: 57915.558/0.804\n",
      "Cost/err at iteration: i=13, j=20: 57912.860/0.804\n",
      "Cost/err at iteration: i=13, j=30: 57908.093/0.804\n",
      "Cost/err at iteration: i=13, j=40: 57902.937/0.804\n",
      "Cost/err at iteration: i=13, j=50: 57899.532/0.804\n",
      "Cost/err at iteration: i=13, j=60: 57896.350/0.804\n",
      "Cost/err at iteration: i=13, j=70: 57891.843/0.804\n",
      "Cost/err at iteration: i=13, j=80: 57888.930/0.804\n",
      "Cost/err at iteration: i=13, j=90: 57888.398/0.804\n",
      "Cost/err at iteration: i=13, j=100: 57890.374/0.804\n",
      "Cost/err at iteration: i=13, j=110: 57891.780/0.804\n",
      "Cost/err at iteration: i=13, j=120: 57895.301/0.804\n",
      "Cost/err at iteration: i=13, j=130: 57901.013/0.804\n",
      "Cost/err at iteration: i=13, j=140: 57907.542/0.804\n",
      "Cost/err at iteration: i=14, j=0: 57911.004/0.804\n",
      "Cost/err at iteration: i=14, j=10: 57915.269/0.804\n",
      "Cost/err at iteration: i=14, j=20: 57912.608/0.804\n",
      "Cost/err at iteration: i=14, j=30: 57907.907/0.804\n",
      "Cost/err at iteration: i=14, j=40: 57902.827/0.804\n",
      "Cost/err at iteration: i=14, j=50: 57899.488/0.804\n",
      "Cost/err at iteration: i=14, j=60: 57896.370/0.804\n",
      "Cost/err at iteration: i=14, j=70: 57891.921/0.804\n",
      "Cost/err at iteration: i=14, j=80: 57889.033/0.804\n",
      "Cost/err at iteration: i=14, j=90: 57888.491/0.804\n",
      "Cost/err at iteration: i=14, j=100: 57890.433/0.804\n",
      "Cost/err at iteration: i=14, j=110: 57891.800/0.804\n",
      "Cost/err at iteration: i=14, j=120: 57895.274/0.804\n",
      "Cost/err at iteration: i=14, j=130: 57900.928/0.804\n",
      "Cost/err at iteration: i=14, j=140: 57907.391/0.804\n",
      "Cost/err at iteration: i=15, j=0: 57910.817/0.804\n",
      "Cost/err at iteration: i=15, j=10: 57915.040/0.804\n",
      "Cost/err at iteration: i=15, j=20: 57912.413/0.804\n",
      "Cost/err at iteration: i=15, j=30: 57907.767/0.804\n",
      "Cost/err at iteration: i=15, j=40: 57902.749/0.804\n",
      "Cost/err at iteration: i=15, j=50: 57899.465/0.804\n",
      "Cost/err at iteration: i=15, j=60: 57896.396/0.804\n",
      "Cost/err at iteration: i=15, j=70: 57891.991/0.804\n",
      "Cost/err at iteration: i=15, j=80: 57889.122/0.804\n",
      "Cost/err at iteration: i=15, j=90: 57888.578/0.804\n",
      "Cost/err at iteration: i=15, j=100: 57890.497/0.804\n",
      "Cost/err at iteration: i=15, j=110: 57891.830/0.804\n",
      "Cost/err at iteration: i=15, j=120: 57895.259/0.804\n",
      "Cost/err at iteration: i=15, j=130: 57900.861/0.804\n",
      "Cost/err at iteration: i=15, j=140: 57907.265/0.804\n",
      "Cost/err at iteration: i=16, j=0: 57910.661/0.804\n",
      "Cost/err at iteration: i=16, j=10: 57914.848/0.804\n",
      "Cost/err at iteration: i=16, j=20: 57912.248/0.804\n",
      "Cost/err at iteration: i=16, j=30: 57907.651/0.804\n",
      "Cost/err at iteration: i=16, j=40: 57902.685/0.804\n",
      "Cost/err at iteration: i=16, j=50: 57899.447/0.804\n",
      "Cost/err at iteration: i=16, j=60: 57896.419/0.804\n",
      "Cost/err at iteration: i=16, j=70: 57892.049/0.804\n",
      "Cost/err at iteration: i=16, j=80: 57889.194/0.804\n",
      "Cost/err at iteration: i=16, j=90: 57888.644/0.804\n",
      "Cost/err at iteration: i=16, j=100: 57890.539/0.804\n",
      "Cost/err at iteration: i=16, j=110: 57891.840/0.804\n",
      "Cost/err at iteration: i=16, j=120: 57895.226/0.804\n",
      "Cost/err at iteration: i=16, j=130: 57900.779/0.804\n",
      "Cost/err at iteration: i=16, j=140: 57907.129/0.804\n",
      "Cost/err at iteration: i=17, j=0: 57910.497/0.804\n",
      "Cost/err at iteration: i=17, j=10: 57914.657/0.804\n",
      "Cost/err at iteration: i=17, j=20: 57912.091/0.804\n",
      "Cost/err at iteration: i=17, j=30: 57907.547/0.804\n",
      "Cost/err at iteration: i=17, j=40: 57902.638/0.804\n",
      "Cost/err at iteration: i=17, j=50: 57899.447/0.804\n",
      "Cost/err at iteration: i=17, j=60: 57896.463/0.804\n",
      "Cost/err at iteration: i=17, j=70: 57892.132/0.804\n",
      "Cost/err at iteration: i=17, j=80: 57889.292/0.804\n",
      "Cost/err at iteration: i=17, j=90: 57888.738/0.804\n",
      "Cost/err at iteration: i=17, j=100: 57890.611/0.804\n",
      "Cost/err at iteration: i=17, j=110: 57891.879/0.804\n",
      "Cost/err at iteration: i=17, j=120: 57895.224/0.804\n",
      "Cost/err at iteration: i=17, j=130: 57900.724/0.804\n",
      "Cost/err at iteration: i=17, j=140: 57907.017/0.804\n",
      "Cost/err at iteration: i=18, j=0: 57910.354/0.804\n",
      "Cost/err at iteration: i=18, j=10: 57914.478/0.804\n",
      "Cost/err at iteration: i=18, j=20: 57911.937/0.804\n",
      "Cost/err at iteration: i=18, j=30: 57907.439/0.804\n",
      "Cost/err at iteration: i=18, j=40: 57902.580/0.804\n",
      "Cost/err at iteration: i=18, j=50: 57899.435/0.804\n",
      "Cost/err at iteration: i=18, j=60: 57896.491/0.804\n",
      "Cost/err at iteration: i=18, j=70: 57892.194/0.804\n",
      "Cost/err at iteration: i=18, j=80: 57889.369/0.804\n",
      "Cost/err at iteration: i=18, j=90: 57888.813/0.804\n",
      "Cost/err at iteration: i=18, j=100: 57890.666/0.804\n",
      "Cost/err at iteration: i=18, j=110: 57891.908/0.804\n",
      "Cost/err at iteration: i=18, j=120: 57895.213/0.804\n",
      "Cost/err at iteration: i=18, j=130: 57900.666/0.804\n",
      "Cost/err at iteration: i=18, j=140: 57906.905/0.804\n",
      "Cost/err at iteration: i=19, j=0: 57910.213/0.804\n",
      "Cost/err at iteration: i=19, j=10: 57914.306/0.804\n",
      "Cost/err at iteration: i=19, j=20: 57911.788/0.804\n",
      "Cost/err at iteration: i=19, j=30: 57907.335/0.804\n",
      "Cost/err at iteration: i=19, j=40: 57902.525/0.804\n",
      "Cost/err at iteration: i=19, j=50: 57899.420/0.804\n",
      "Cost/err at iteration: i=19, j=60: 57896.512/0.804\n",
      "Cost/err at iteration: i=19, j=70: 57892.246/0.804\n",
      "Cost/err at iteration: i=19, j=80: 57889.435/0.804\n",
      "Cost/err at iteration: i=19, j=90: 57888.874/0.804\n",
      "Cost/err at iteration: i=19, j=100: 57890.708/0.804\n",
      "Cost/err at iteration: i=19, j=110: 57891.923/0.804\n",
      "Cost/err at iteration: i=19, j=120: 57895.194/0.804\n",
      "Cost/err at iteration: i=19, j=130: 57900.601/0.804\n",
      "Cost/err at iteration: i=19, j=140: 57906.790/0.804\n",
      "Elapsed time: 3:31:07.383795\n"
     ]
    }
   ],
   "source": [
    "t0 = datetime.now()\n",
    "LL = []\n",
    "for i in range(max_iter):\n",
    "    Xtrain, Ytrain = shuffle(Xtrain, Ytrain)\n",
    "    for j in range(n_batch):\n",
    "        Xbatch = Xtrain[j*batch_sz:(j*batch_sz+batch_sz),]\n",
    "        Ybatch = Ytrain_ind[j*batch_sz:(j*batch_sz+batch_sz),]\n",
    "\n",
    "        train(Xbatch, Ybatch)\n",
    "        if j % print_period == 0:\n",
    "            cost_val, prediction_val = get_prediction(Xtest, Ytest_ind)\n",
    "            err = error_rate(prediction_val, Ytest)\n",
    "            print('Cost/err at iteration: i={}, j={}: {:.3f}/{:.3f}'.format(i,j,cost_val, err) )\n",
    "            LL.append(cost_val)\n",
    "print('Elapsed time: {}'.format(datetime.now() - t0))"
   ]
  },
  {
   "cell_type": "code",
   "execution_count": 20,
   "metadata": {},
   "outputs": [
    {
     "data": {
      "image/png": "[encoded data removed]",
      "text/plain": [
       "<matplotlib.figure.Figure at 0x11a0c5dd8>"
      ]
     },
     "metadata": {},
     "output_type": "display_data"
    }
   ],
   "source": [
    "plt.plot(LL)\n",
    "plt.show()"
   ]
  },
  {
   "cell_type": "code",
   "execution_count": 21,
   "metadata": {},
   "outputs": [
    {
     "data": {
      "image/png": "[encoded data removed]",
      "text/plain": [
       "<matplotlib.figure.Figure at 0x1143a93c8>"
      ]
     },
     "metadata": {},
     "output_type": "display_data"
    }
   ],
   "source": [
    "# visualize 1\n",
    "W1_val = W1.get_value()\n",
    "grid = np.zeros((8*5, 8*5))\n",
    "m = 0\n",
    "n = 0\n",
    "for i in range(20):\n",
    "    for j in range(3):\n",
    "        filt = W1_val[i, j]\n",
    "        grid[m*5:(m+1)*5, n*5:(n+1)*5] = filt\n",
    "        m += 1\n",
    "        if m >= 8:\n",
    "            m = 0\n",
    "            n += 1\n",
    "plt.imshow(grid, cmap='gray')\n",
    "plt.title('W1')\n",
    "plt.show()"
   ]
  },
  {
   "cell_type": "code",
   "execution_count": 22,
   "metadata": {},
   "outputs": [
    {
     "data": {
      "image/png": "[encoded data removed]",
      "text/plain": [
       "<matplotlib.figure.Figure at 0x1143b3be0>"
      ]
     },
     "metadata": {},
     "output_type": "display_data"
    }
   ],
   "source": [
    "# visualize 2\n",
    "W2_val = W2.get_value()\n",
    "grid = np.zeros((32*5, 32*5))\n",
    "m = 0\n",
    "n = 0\n",
    "for i in range(50):\n",
    "    for j in range(20):\n",
    "        filt = W2_val[i, j]\n",
    "        grid[m*5:(m+1)*5, n*5:(n+1)*5] = filt\n",
    "        m += 1\n",
    "        if m >= 32:\n",
    "            m = 0\n",
    "            n += 1\n",
    "plt.imshow(grid, cmap='gray')\n",
    "plt.title('W2')\n",
    "plt.show()"
   ]
  },
  {
   "cell_type": "code",
   "execution_count": null,
   "metadata": {
    "collapsed": true
   },
   "outputs": [],
   "source": []
  }
 ],
 "metadata": {
  "kernelspec": {
   "display_name": "Python 3",
   "language": "python",
   "name": "python3"
  },
  "language_info": {
   "codemirror_mode": {
    "name": "ipython",
    "version": 3
   },
   "file_extension": ".py",
   "mimetype": "text/x-python",
   "name": "python",
   "nbconvert_exporter": "python",
   "pygments_lexer": "ipython3",
   "version": "3.6.1"
  }
 },
 "nbformat": 4,
 "nbformat_minor": 2
}
