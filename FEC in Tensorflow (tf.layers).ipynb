{
 "cells": [
  {
   "cell_type": "code",
   "execution_count": 1,
   "metadata": {},
   "outputs": [
    {
     "name": "stderr",
     "output_type": "stream",
     "text": [
      "/Users/michal/anaconda/lib/python3.6/site-packages/h5py/__init__.py:34: FutureWarning: Conversion of the second argument of issubdtype from `float` to `np.floating` is deprecated. In future, it will be treated as `np.float64 == np.dtype(float).type`.\n",
      "  from ._conv import register_converters as _register_converters\n"
     ]
    }
   ],
   "source": [
    "import numpy as np\n",
    "import pandas as pd\n",
    "import matplotlib.pyplot as plt\n",
    "import tensorflow as tf\n",
    "from sklearn.utils import shuffle\n",
    "from collections import Counter"
   ]
  },
  {
   "cell_type": "code",
   "execution_count": 2,
   "metadata": {},
   "outputs": [
    {
     "data": {
      "text/html": [
       "<div>\n",
       "<style>\n",
       "    .dataframe thead tr:only-child th {\n",
       "        text-align: right;\n",
       "    }\n",
       "\n",
       "    .dataframe thead th {\n",
       "        text-align: left;\n",
       "    }\n",
       "\n",
       "    .dataframe tbody tr th {\n",
       "        vertical-align: top;\n",
       "    }\n",
       "</style>\n",
       "<table border=\"1\" class=\"dataframe\">\n",
       "  <thead>\n",
       "    <tr style=\"text-align: right;\">\n",
       "      <th></th>\n",
       "      <th>emotion</th>\n",
       "      <th>pixels</th>\n",
       "      <th>Usage</th>\n",
       "    </tr>\n",
       "  </thead>\n",
       "  <tbody>\n",
       "    <tr>\n",
       "      <th>34894</th>\n",
       "      <td>3</td>\n",
       "      <td>160 124 154 148 96 105 164 169 81 53 79 89 98 ...</td>\n",
       "      <td>PrivateTest</td>\n",
       "    </tr>\n",
       "    <tr>\n",
       "      <th>23106</th>\n",
       "      <td>0</td>\n",
       "      <td>67 60 95 139 151 138 136 136 122 109 98 102 97...</td>\n",
       "      <td>Training</td>\n",
       "    </tr>\n",
       "    <tr>\n",
       "      <th>16667</th>\n",
       "      <td>3</td>\n",
       "      <td>78 34 20 32 50 37 32 30 22 17 15 14 16 20 25 2...</td>\n",
       "      <td>Training</td>\n",
       "    </tr>\n",
       "    <tr>\n",
       "      <th>1557</th>\n",
       "      <td>4</td>\n",
       "      <td>134 152 180 111 71 151 153 128 32 125 155 156 ...</td>\n",
       "      <td>Training</td>\n",
       "    </tr>\n",
       "    <tr>\n",
       "      <th>14780</th>\n",
       "      <td>2</td>\n",
       "      <td>60 65 73 62 43 48 69 93 107 115 111 105 105 11...</td>\n",
       "      <td>Training</td>\n",
       "    </tr>\n",
       "  </tbody>\n",
       "</table>\n",
       "</div>"
      ],
      "text/plain": [
       "       emotion                                             pixels        Usage\n",
       "34894        3  160 124 154 148 96 105 164 169 81 53 79 89 98 ...  PrivateTest\n",
       "23106        0  67 60 95 139 151 138 136 136 122 109 98 102 97...     Training\n",
       "16667        3  78 34 20 32 50 37 32 30 22 17 15 14 16 20 25 2...     Training\n",
       "1557         4  134 152 180 111 71 151 153 128 32 125 155 156 ...     Training\n",
       "14780        2  60 65 73 62 43 48 69 93 107 115 111 105 105 11...     Training"
      ]
     },
     "execution_count": 2,
     "metadata": {},
     "output_type": "execute_result"
    }
   ],
   "source": [
    "df = pd.read_csv('../data/fer2013/fer2013.csv')\n",
    "df.sample(5)"
   ]
  },
  {
   "cell_type": "code",
   "execution_count": 3,
   "metadata": {
    "collapsed": true
   },
   "outputs": [],
   "source": [
    "def error_rate(pred, target):\n",
    "    return np.mean(pred!=target)"
   ]
  },
  {
   "cell_type": "code",
   "execution_count": 4,
   "metadata": {
    "collapsed": true
   },
   "outputs": [],
   "source": [
    "def classification_rate(p, t):\n",
    "    return np.mean(p == t)"
   ]
  },
  {
   "cell_type": "code",
   "execution_count": 5,
   "metadata": {
    "collapsed": true
   },
   "outputs": [],
   "source": [
    "def ohe(labels):\n",
    "    ohe_lab = np.zeros((labels.shape[0], len(set(labels))))\n",
    "    for i in range(len(labels)):\n",
    "        ohe_lab[i, labels[i]] = 1\n",
    "    return ohe_lab     "
   ]
  },
  {
   "cell_type": "code",
   "execution_count": 6,
   "metadata": {
    "collapsed": true
   },
   "outputs": [],
   "source": [
    "def rearrange(X):\n",
    "    return (X.transpose(0, 2, 3, 1) / 255).astype(np.float32)"
   ]
  },
  {
   "cell_type": "code",
   "execution_count": 7,
   "metadata": {},
   "outputs": [],
   "source": [
    "Y_all = df['emotion'].astype(int)\n",
    "X_all = []\n",
    "for i in df['pixels']:\n",
    "    X_all.append([int(p) for p in i.split()]) #acts like getData()\n",
    "X_all, Y_all = np.array(X_all), np.array(Y_all)\n",
    "X_all = np.reshape(X_all, (X_all.shape[0], 1, 48, 48)) #acts like getImageData()"
   ]
  },
  {
   "cell_type": "code",
   "execution_count": 8,
   "metadata": {},
   "outputs": [
    {
     "data": {
      "text/plain": [
       "Counter({0: 4953, 1: 547, 2: 5121, 3: 8989, 4: 6077, 5: 4002, 6: 6198})"
      ]
     },
     "execution_count": 8,
     "metadata": {},
     "output_type": "execute_result"
    }
   ],
   "source": [
    "from collections import Counter\n",
    "Counter(Y_all)"
   ]
  },
  {
   "cell_type": "code",
   "execution_count": 9,
   "metadata": {
    "collapsed": true
   },
   "outputs": [],
   "source": [
    "X = rearrange(X_all)\n",
    "Y = ohe(Y_all)"
   ]
  },
  {
   "cell_type": "code",
   "execution_count": 10,
   "metadata": {},
   "outputs": [
    {
     "name": "stdout",
     "output_type": "stream",
     "text": [
      "(35887, 48, 48, 1)\n",
      "<class 'numpy.ndarray'>\n",
      "(35887, 7)\n",
      "<class 'numpy.ndarray'>\n"
     ]
    }
   ],
   "source": [
    "print(X.shape)\n",
    "print(type(X))\n",
    "print(Y.shape)\n",
    "print(type(Y))"
   ]
  },
  {
   "cell_type": "code",
   "execution_count": 11,
   "metadata": {},
   "outputs": [
    {
     "data": {
      "image/png": "[encoded data removed]",
      "text/plain": [
       "<matplotlib.figure.Figure at 0x11b1fe4a8>"
      ]
     },
     "metadata": {},
     "output_type": "display_data"
    },
    {
     "data": {
      "image/png": "[encoded data removed]",
      "text/plain": [
       "<matplotlib.figure.Figure at 0x11bb75f98>"
      ]
     },
     "metadata": {},
     "output_type": "display_data"
    },
    {
     "data": {
      "image/png": "[encoded data removed]",
      "text/plain": [
       "<matplotlib.figure.Figure at 0x11b8065c0>"
      ]
     },
     "metadata": {},
     "output_type": "display_data"
    },
    {
     "data": {
      "image/png": "[encoded data removed]",
      "text/plain": [
       "<matplotlib.figure.Figure at 0x11bb52400>"
      ]
     },
     "metadata": {},
     "output_type": "display_data"
    },
    {
     "data": {
      "image/png": "[encoded data removed]",
      "text/plain": [
       "<matplotlib.figure.Figure at 0x11b8c25f8>"
      ]
     },
     "metadata": {},
     "output_type": "display_data"
    },
    {
     "data": {
      "image/png": "[encoded data removed]",
      "text/plain": [
       "<matplotlib.figure.Figure at 0x13bb86400>"
      ]
     },
     "metadata": {},
     "output_type": "display_data"
    },
    {
     "data": {
      "image/png": "[encoded data removed]",
      "text/plain": [
       "<matplotlib.figure.Figure at 0x1025763c8>"
      ]
     },
     "metadata": {},
     "output_type": "display_data"
    }
   ],
   "source": [
    "# show one of each emtion randomly\n",
    "label_map = ['Anger', 'Disgust', 'Fear', 'Happy', 'Sad', 'Surprise', 'Neutral']\n",
    "\n",
    "for i in range(7):\n",
    "    x, y = X_all[Y_all==i], Y_all[Y_all==i]\n",
    "    N = len(y)\n",
    "    j = np.random.choice(N)\n",
    "    plt.imshow(x[j].reshape(48,48), cmap='gray')\n",
    "    plt.title(label_map[y[j]])\n",
    "    plt.show()"
   ]
  },
  {
   "cell_type": "code",
   "execution_count": 12,
   "metadata": {
    "collapsed": true
   },
   "outputs": [],
   "source": [
    "max_iter = 50\n",
    "print_period = 20\n",
    "lr = 1e-5\n",
    "reg = 1e-2"
   ]
  },
  {
   "cell_type": "code",
   "execution_count": 13,
   "metadata": {
    "collapsed": true
   },
   "outputs": [],
   "source": [
    "X_train = X[:-1000]\n",
    "Y_train = Y[:-1000]\n",
    "X_test = X[-1000:]\n",
    "Y_test = Y[-1000:]"
   ]
  },
  {
   "cell_type": "code",
   "execution_count": 14,
   "metadata": {
    "collapsed": true
   },
   "outputs": [],
   "source": [
    "N = X_train.shape[0]\n",
    "batch_size = 256\n",
    "num_batches = N//batch_size"
   ]
  },
  {
   "cell_type": "code",
   "execution_count": 15,
   "metadata": {
    "collapsed": true
   },
   "outputs": [],
   "source": [
    "# get TF variables for the inputs, X and targets T\n",
    "ftX = tf.placeholder(tf.float32, shape=(None, 48, 48, 1), name='X')\n",
    "ftT = tf.placeholder(tf.float32, shape=(None, 7), name='T')"
   ]
  },
  {
   "cell_type": "code",
   "execution_count": 16,
   "metadata": {
    "collapsed": true
   },
   "outputs": [],
   "source": [
    "conv1_layer = tf.layers.conv2d(ftX, filters=16, kernel_size=3, strides=1, \n",
    "                                   padding=\"SAME\", use_bias=True, activation=tf.nn.relu,\n",
    "                                   kernel_initializer=tf.contrib.layers.xavier_initializer())\n",
    "conv1_layer_mpool = tf.layers.max_pooling2d(conv1_layer, pool_size=2, strides=2)\n",
    "\n",
    "conv2_layer = tf.layers.conv2d(conv1_layer_mpool, filters=32, kernel_size=3, strides=1, \n",
    "                                   padding=\"SAME\", use_bias=True, activation=tf.nn.relu,\n",
    "                                   kernel_initializer=tf.contrib.layers.xavier_initializer())\n",
    "conv2_layer_mpool = tf.layers.max_pooling2d(conv2_layer, pool_size=2, strides=2)\n",
    "\n",
    "conv3_layer = tf.layers.conv2d(conv2_layer_mpool, filters=64, kernel_size=3, strides=1, \n",
    "                                   padding=\"SAME\", use_bias=True, activation=tf.nn.relu,\n",
    "                                   kernel_initializer=tf.contrib.layers.xavier_initializer())\n",
    "conv3_layer_mpool = tf.layers.max_pooling2d(conv3_layer, pool_size=2, strides=2)\n",
    "\n",
    "Z3_shape = conv3_layer_mpool.get_shape().as_list()\n",
    "Z3_r = tf.reshape(conv3_layer_mpool, [-1, np.prod(Z3_shape[1:])])\n",
    "\n",
    "dense1_layer = tf.layers.dense(inputs=Z3_r, units=512, use_bias=True, activation=None)\n",
    "dense1_layer_activated = tf.nn.relu(dense1_layer)\n",
    "\n",
    "dense2_layer = tf.layers.dense(inputs=dense1_layer_activated, units=256, use_bias=True, activation=None)\n",
    "dense2_layer_activated = tf.nn.relu(dense2_layer)\n",
    "\n",
    "dense3_layer = tf.layers.dense(inputs=dense2_layer_activated, units=128, use_bias=True, activation=None)\n",
    "dense3_layer_activated = tf.nn.relu(dense3_layer)\n",
    "\n",
    "# Output Layer \n",
    "Yish = tf.layers.dense(inputs=dense3_layer_activated, units=7, activation=None)"
   ]
  },
  {
   "cell_type": "code",
   "execution_count": 17,
   "metadata": {
    "collapsed": true
   },
   "outputs": [],
   "source": [
    "cost = tf.reduce_mean(tf.nn.softmax_cross_entropy_with_logits_v2(\n",
    "    labels=ftT, logits=Yish))"
   ]
  },
  {
   "cell_type": "code",
   "execution_count": 18,
   "metadata": {
    "collapsed": true
   },
   "outputs": [],
   "source": [
    "pred = tf.argmax(Yish, 1)"
   ]
  },
  {
   "cell_type": "code",
   "execution_count": 19,
   "metadata": {
    "collapsed": true
   },
   "outputs": [],
   "source": [
    "train_op = tf.train.RMSPropOptimizer(lr, decay=0.999, momentum=0.99).minimize(cost)"
   ]
  },
  {
   "cell_type": "code",
   "execution_count": 20,
   "metadata": {
    "scrolled": true
   },
   "outputs": [
    {
     "name": "stdout",
     "output_type": "stream",
     "text": [
      "0 0 1.9412637 0.782\n",
      "0 20 1.9405744 0.779\n",
      "0 40 1.9389054 0.779\n",
      "0 60 1.936471 0.778\n",
      "0 80 1.9335369 0.779\n",
      "0 100 1.9303054 0.779\n",
      "0 120 1.9268395 0.779\n",
      "1 0 1.9239595 0.78\n",
      "1 20 1.920251 0.78\n",
      "1 40 1.9165281 0.78\n",
      "1 60 1.9126811 0.78\n",
      "1 80 1.9088484 0.78\n",
      "1 100 1.905141 0.78\n",
      "1 120 1.9016134 0.78\n",
      "2 0 1.8989272 0.78\n",
      "2 20 1.8957478 0.78\n",
      "2 40 1.8928216 0.78\n",
      "2 60 1.890053 0.78\n",
      "2 80 1.8874274 0.78\n",
      "2 100 1.8849245 0.78\n",
      "2 120 1.8825341 0.78\n",
      "3 0 1.880696 0.78\n",
      "3 20 1.878489 0.78\n",
      "3 40 1.8763435 0.78\n",
      "3 60 1.8742601 0.78\n",
      "3 80 1.8722351 0.78\n",
      "3 100 1.870267 0.78\n",
      "3 120 1.8683048 0.78\n",
      "4 0 1.8666629 0.78\n",
      "4 20 1.8646611 0.78\n",
      "4 40 1.8626809 0.78\n",
      "4 60 1.8606187 0.78\n",
      "4 80 1.858468 0.78\n",
      "4 100 1.8562822 0.78\n",
      "4 120 1.8540642 0.78\n",
      "5 0 1.8523414 0.78\n",
      "5 20 1.8503214 0.78\n",
      "5 40 1.8484172 0.78\n",
      "5 60 1.8465447 0.78\n",
      "5 80 1.844743 0.78\n",
      "5 100 1.8431052 0.78\n",
      "5 120 1.8414574 0.78\n",
      "6 0 1.8402569 0.78\n",
      "6 20 1.8389039 0.78\n",
      "6 40 1.8376228 0.78\n",
      "6 60 1.8364629 0.78\n",
      "6 80 1.8354725 0.78\n",
      "6 100 1.8345162 0.78\n",
      "6 120 1.8336408 0.78\n",
      "7 0 1.833012 0.78\n",
      "7 20 1.8322332 0.78\n",
      "7 40 1.8315847 0.78\n",
      "7 60 1.8308828 0.78\n",
      "7 80 1.8301444 0.78\n",
      "7 100 1.829462 0.78\n",
      "7 120 1.8290051 0.78\n",
      "8 0 1.8287264 0.78\n",
      "8 20 1.8284756 0.78\n",
      "8 40 1.8281298 0.78\n",
      "8 60 1.8275807 0.78\n",
      "8 80 1.8269877 0.78\n",
      "8 100 1.8261964 0.78\n",
      "8 120 1.8255719 0.78\n",
      "9 0 1.8252293 0.78\n",
      "9 20 1.8249178 0.78\n",
      "9 40 1.8245345 0.78\n",
      "9 60 1.824301 0.78\n",
      "9 80 1.8241969 0.78\n",
      "9 100 1.8239865 0.78\n",
      "9 120 1.8235588 0.78\n",
      "10 0 1.8230842 0.78\n",
      "10 20 1.8224124 0.78\n",
      "10 40 1.8219744 0.78\n",
      "10 60 1.8214258 0.78\n",
      "10 80 1.8210473 0.78\n",
      "10 100 1.8209511 0.78\n",
      "10 120 1.8208953 0.78\n",
      "11 0 1.8209298 0.78\n",
      "11 20 1.8210654 0.78\n",
      "11 40 1.8208355 0.78\n",
      "11 60 1.8203858 0.78\n",
      "11 80 1.8198363 0.78\n",
      "11 100 1.8195229 0.78\n",
      "11 120 1.8191266 0.78\n",
      "12 0 1.8185537 0.78\n",
      "12 20 1.8176807 0.78\n",
      "12 40 1.8169882 0.78\n",
      "12 60 1.8167093 0.78\n",
      "12 80 1.816677 0.78\n",
      "12 100 1.8172572 0.78\n",
      "12 120 1.817511 0.78\n",
      "13 0 1.8175722 0.78\n",
      "13 20 1.817889 0.78\n",
      "13 40 1.817696 0.78\n",
      "13 60 1.8166252 0.78\n",
      "13 80 1.8157141 0.78\n",
      "13 100 1.8147252 0.78\n",
      "13 120 1.8142527 0.78\n",
      "14 0 1.8140242 0.78\n",
      "14 20 1.8138188 0.78\n",
      "14 40 1.8138169 0.78\n",
      "14 60 1.8139821 0.78\n",
      "14 80 1.8137366 0.78\n",
      "14 100 1.8136083 0.78\n",
      "14 120 1.8131306 0.78\n",
      "15 0 1.8128972 0.78\n",
      "15 20 1.8123919 0.78\n",
      "15 40 1.8119954 0.78\n",
      "15 60 1.8116533 0.78\n",
      "15 80 1.8114274 0.78\n",
      "15 100 1.8112034 0.78\n",
      "15 120 1.8109196 0.78\n",
      "16 0 1.8106858 0.779\n",
      "16 20 1.8103826 0.779\n",
      "16 40 1.8100567 0.779\n",
      "16 60 1.8095212 0.778\n",
      "16 80 1.8092204 0.778\n",
      "16 100 1.8097006 0.779\n",
      "16 120 1.8098912 0.78\n",
      "17 0 1.8092184 0.779\n",
      "17 20 1.8082938 0.779\n",
      "17 40 1.8069146 0.777\n",
      "17 60 1.8057251 0.777\n",
      "17 80 1.8060281 0.778\n",
      "17 100 1.8076931 0.778\n",
      "17 120 1.8087008 0.778\n",
      "18 0 1.8085872 0.778\n",
      "18 20 1.8073118 0.778\n",
      "18 40 1.8054149 0.778\n",
      "18 60 1.8037126 0.77\n",
      "18 80 1.8032973 0.77\n",
      "18 100 1.8049855 0.776\n",
      "18 120 1.8078263 0.779\n",
      "19 0 1.8079276 0.779\n",
      "19 20 1.8052449 0.778\n",
      "19 40 1.8022054 0.776\n",
      "19 60 1.8005539 0.772\n",
      "19 80 1.8001817 0.772\n",
      "19 100 1.8011209 0.774\n",
      "19 120 1.8045709 0.778\n",
      "20 0 1.8065164 0.778\n",
      "20 20 1.8037534 0.772\n",
      "20 40 1.8006741 0.769\n",
      "20 60 1.7997723 0.769\n",
      "20 80 1.8011254 0.769\n",
      "20 100 1.8038789 0.775\n",
      "20 120 1.801455 0.772\n",
      "21 0 1.7979006 0.763\n",
      "21 20 1.7964776 0.752\n",
      "21 40 1.7980388 0.763\n",
      "21 60 1.8003471 0.769\n",
      "21 80 1.7990539 0.767\n",
      "21 100 1.7961396 0.763\n",
      "21 120 1.7942402 0.751\n",
      "22 0 1.7951498 0.752\n",
      "22 20 1.7989388 0.767\n",
      "22 40 1.7966104 0.762\n",
      "22 60 1.7929548 0.751\n",
      "22 80 1.7930286 0.749\n",
      "22 100 1.7945247 0.76\n",
      "22 120 1.7946167 0.76\n",
      "23 0 1.7923841 0.759\n",
      "23 20 1.7904727 0.751\n",
      "23 40 1.790073 0.744\n",
      "23 60 1.7921828 0.747\n",
      "23 80 1.79343 0.753\n",
      "23 100 1.7893889 0.744\n",
      "23 120 1.7869517 0.738\n",
      "24 0 1.7876107 0.75\n",
      "24 20 1.7875187 0.757\n",
      "24 40 1.7866136 0.738\n",
      "24 60 1.7871674 0.738\n",
      "24 80 1.7853262 0.731\n",
      "24 100 1.7853167 0.741\n",
      "24 120 1.7881981 0.751\n",
      "25 0 1.7854519 0.745\n",
      "25 20 1.7862239 0.734\n",
      "25 40 1.7862844 0.736\n",
      "25 60 1.779074 0.726\n",
      "25 80 1.7819468 0.744\n",
      "25 100 1.7845961 0.751\n",
      "25 120 1.7751812 0.728\n",
      "26 0 1.7754683 0.717\n",
      "26 20 1.7898916 0.745\n",
      "26 40 1.7755059 0.731\n",
      "26 60 1.772305 0.73\n",
      "26 80 1.7817491 0.731\n",
      "26 100 1.7734236 0.718\n",
      "26 120 1.7712456 0.708\n",
      "27 0 1.7763667 0.732\n",
      "27 20 1.7708188 0.73\n",
      "27 40 1.7696413 0.724\n",
      "27 60 1.7704847 0.714\n",
      "27 80 1.765156 0.709\n",
      "27 100 1.7694356 0.726\n",
      "27 120 1.7643267 0.722\n",
      "28 0 1.7645615 0.719\n",
      "28 20 1.7638386 0.713\n",
      "28 40 1.7645352 0.724\n",
      "28 60 1.7594118 0.72\n",
      "28 80 1.75857 0.702\n",
      "28 100 1.7665427 0.732\n",
      "28 120 1.7552918 0.699\n",
      "29 0 1.760448 0.728\n",
      "29 20 1.7524935 0.71\n",
      "29 40 1.7556024 0.722\n",
      "29 60 1.7543478 0.701\n",
      "29 80 1.7501931 0.696\n",
      "29 100 1.7513872 0.714\n",
      "29 120 1.7500422 0.71\n",
      "30 0 1.7505034 0.698\n",
      "30 20 1.7541404 0.713\n",
      "30 40 1.7450258 0.702\n",
      "30 60 1.7483201 0.708\n",
      "30 80 1.7439971 0.695\n",
      "30 100 1.7410616 0.706\n",
      "30 120 1.7436845 0.715\n",
      "31 0 1.7343143 0.681\n",
      "31 20 1.7507015 0.724\n",
      "31 40 1.7265046 0.674\n",
      "31 60 1.7263001 0.675\n",
      "31 80 1.7448715 0.722\n",
      "31 100 1.7251103 0.689\n",
      "31 120 1.7285088 0.675\n",
      "32 0 1.7317365 0.699\n",
      "32 20 1.7275361 0.69\n",
      "32 40 1.7239031 0.67\n",
      "32 60 1.7207779 0.701\n",
      "32 80 1.7207872 0.673\n",
      "32 100 1.7183979 0.68\n",
      "32 120 1.7122704 0.681\n",
      "33 0 1.7199603 0.682\n",
      "33 20 1.7069265 0.656\n",
      "33 40 1.7050307 0.667\n",
      "33 60 1.6980642 0.652\n",
      "33 80 1.6954275 0.653\n",
      "33 100 1.7062864 0.688\n",
      "33 120 1.6933169 0.649\n",
      "34 0 1.715109 0.697\n",
      "34 20 1.7083305 0.682\n",
      "34 40 1.7226458 0.703\n",
      "34 60 1.7435176 0.709\n",
      "34 80 1.7443174 0.711\n",
      "34 100 1.7281436 0.71\n",
      "34 120 1.7372948 0.702\n",
      "35 0 1.7020792 0.679\n",
      "35 20 1.7032005 0.676\n",
      "35 40 1.7080884 0.675\n",
      "35 60 1.7061872 0.696\n",
      "35 80 1.6831225 0.66\n",
      "35 100 1.7065355 0.676\n",
      "35 120 1.7169878 0.707\n",
      "36 0 1.6843122 0.65\n",
      "36 20 1.6672128 0.639\n",
      "36 40 1.6792849 0.657\n",
      "36 60 1.6621213 0.632\n",
      "36 80 1.6588323 0.623\n",
      "36 100 1.6656207 0.656\n",
      "36 120 1.6546236 0.626\n",
      "37 0 1.6604404 0.65\n",
      "37 20 1.658552 0.659\n",
      "37 40 1.6699767 0.642\n",
      "37 60 1.6601491 0.635\n",
      "37 80 1.67002 0.649\n",
      "37 100 1.6646022 0.64\n",
      "37 120 1.6855557 0.672\n",
      "38 0 1.641572 0.625\n",
      "38 20 1.6434771 0.622\n",
      "38 40 1.6483835 0.635\n",
      "38 60 1.6361105 0.621\n",
      "38 80 1.6333565 0.625\n",
      "38 100 1.6585543 0.656\n",
      "38 120 1.6753474 0.673\n",
      "39 0 1.6351372 0.612\n",
      "39 20 1.6368438 0.631\n",
      "39 40 1.6546475 0.656\n",
      "39 60 1.6512032 0.654\n",
      "39 80 1.6528215 0.632\n",
      "39 100 1.6423945 0.644\n",
      "39 120 1.6379741 0.633\n",
      "40 0 1.6377615 0.642\n",
      "40 20 1.6581968 0.664\n",
      "40 40 1.6493213 0.642\n",
      "40 60 1.6429867 0.643\n",
      "40 80 1.6378528 0.636\n",
      "40 100 1.6329806 0.633\n",
      "40 120 1.6271199 0.651\n",
      "41 0 1.6347452 0.643\n",
      "41 20 1.6402789 0.647\n",
      "41 40 1.6755247 0.657\n",
      "41 60 1.6427886 0.643\n",
      "41 80 1.6848258 0.648\n",
      "41 100 1.672885 0.651\n",
      "41 120 1.6408101 0.643\n",
      "42 0 1.6226041 0.613\n",
      "42 20 1.6069294 0.613\n",
      "42 40 1.6077828 0.628\n",
      "42 60 1.6088431 0.619\n",
      "42 80 1.6016184 0.612\n",
      "42 100 1.5881993 0.605\n",
      "42 120 1.5913599 0.616\n",
      "43 0 1.5915736 0.613\n",
      "43 20 1.5905496 0.611\n",
      "43 40 1.587764 0.611\n",
      "43 60 1.5936766 0.603\n",
      "43 80 1.5857981 0.613\n",
      "43 100 1.5862126 0.612\n",
      "43 120 1.580459 0.596\n",
      "44 0 1.5893637 0.613\n",
      "44 20 1.5830334 0.603\n",
      "44 40 1.5848203 0.598\n",
      "44 60 1.5942512 0.614\n",
      "44 80 1.6103047 0.626\n",
      "44 100 1.6062876 0.624\n",
      "44 120 1.583062 0.604\n",
      "45 0 1.5956306 0.626\n",
      "45 20 1.5847636 0.615\n",
      "45 40 1.5703772 0.61\n",
      "45 60 1.5648477 0.594\n",
      "45 80 1.5618172 0.605\n",
      "45 100 1.5571359 0.6\n",
      "45 120 1.5562205 0.59\n",
      "46 0 1.5646553 0.609\n",
      "46 20 1.5583543 0.605\n",
      "46 40 1.5447255 0.597\n",
      "46 60 1.5528464 0.593\n",
      "46 80 1.5484265 0.595\n",
      "46 100 1.5398378 0.596\n",
      "46 120 1.5433472 0.6\n",
      "47 0 1.549155 0.6\n",
      "47 20 1.5406513 0.593\n",
      "47 40 1.5726613 0.625\n",
      "47 60 1.5501406 0.602\n",
      "47 80 1.5445818 0.583\n",
      "47 100 1.5468286 0.597\n",
      "47 120 1.5438296 0.597\n",
      "48 0 1.5557798 0.596\n",
      "48 20 1.5522885 0.589\n",
      "48 40 1.5760325 0.602\n",
      "48 60 1.5515137 0.597\n",
      "48 80 1.5302227 0.584\n",
      "48 100 1.5656745 0.614\n",
      "48 120 1.5564902 0.594\n",
      "49 0 1.5578957 0.604\n",
      "49 20 1.5314882 0.577\n",
      "49 40 1.5279616 0.582\n",
      "49 60 1.5424418 0.598\n",
      "49 80 1.5381479 0.602\n",
      "49 100 1.5349445 0.597\n",
      "49 120 1.5210292 0.584\n"
     ]
    }
   ],
   "source": [
    "LL = []\n",
    "error = []\n",
    "init = tf.global_variables_initializer()\n",
    "with tf.Session() as sess:\n",
    "    sess.run(init)\n",
    "    for i in range(max_iter):\n",
    "        X_train, Y_train = shuffle(X_train, Y_train)\n",
    "        for j in range(num_batches):\n",
    "            X_batch = X_train[(j*batch_size):(j*batch_size+batch_size)]\n",
    "            Y_batch = Y_train[(j*batch_size):(j*batch_size+batch_size)]\n",
    "        \n",
    "            sess.run(train_op, feed_dict = {ftX: X_batch, ftT: Y_batch})\n",
    "            if j % print_period == 0:\n",
    "                cost_val = sess.run(cost, feed_dict={ftX: X_test, ftT: Y_test})\n",
    "                pred_val = sess.run(pred, feed_dict={ftX: X_test})\n",
    "                err = error_rate(pred_val, Y_test.argmax(axis = 1))\n",
    "                print(i,j,cost_val,err)\n",
    "                LL.append(cost_val)\n",
    "                error.append(err)"
   ]
  },
  {
   "cell_type": "code",
   "execution_count": 21,
   "metadata": {},
   "outputs": [
    {
     "data": {
      "image/png": "[encoded data removed]",
      "text/plain": [
       "<matplotlib.figure.Figure at 0x16bf0a470>"
      ]
     },
     "metadata": {},
     "output_type": "display_data"
    }
   ],
   "source": [
    "plt.plot(LL)\n",
    "plt.show()"
   ]
  },
  {
   "cell_type": "code",
   "execution_count": 22,
   "metadata": {},
   "outputs": [
    {
     "data": {
      "image/png": "[encoded data removed]",
      "text/plain": [
       "<matplotlib.figure.Figure at 0x16bf33400>"
      ]
     },
     "metadata": {},
     "output_type": "display_data"
    }
   ],
   "source": [
    "plt.plot(error)\n",
    "plt.show()"
   ]
  },
  {
   "cell_type": "code",
   "execution_count": null,
   "metadata": {
    "collapsed": true
   },
   "outputs": [],
   "source": []
  }
 ],
 "metadata": {
  "kernelspec": {
   "display_name": "Python 3",
   "language": "python",
   "name": "python3"
  },
  "language_info": {
   "codemirror_mode": {
    "name": "ipython",
    "version": 3
   },
   "file_extension": ".py",
   "mimetype": "text/x-python",
   "name": "python",
   "nbconvert_exporter": "python",
   "pygments_lexer": "ipython3",
   "version": "3.6.1"
  }
 },
 "nbformat": 4,
 "nbformat_minor": 2
}
