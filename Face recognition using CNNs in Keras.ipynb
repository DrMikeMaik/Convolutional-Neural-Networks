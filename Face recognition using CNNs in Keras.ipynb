{
 "cells": [
  {
   "cell_type": "code",
   "execution_count": 1,
   "metadata": {},
   "outputs": [
    {
     "name": "stderr",
     "output_type": "stream",
     "text": [
      "/Users/michal/anaconda/lib/python3.6/site-packages/h5py/__init__.py:34: FutureWarning: Conversion of the second argument of issubdtype from `float` to `np.floating` is deprecated. In future, it will be treated as `np.float64 == np.dtype(float).type`.\n",
      "  from ._conv import register_converters as _register_converters\n",
      "Using TensorFlow backend.\n"
     ]
    }
   ],
   "source": [
    "import numpy as np\n",
    "import pandas as pd\n",
    "import matplotlib.pyplot as plt\n",
    "import keras\n",
    "from keras.models import Sequential\n",
    "from keras.layers import Activation, Conv2D, MaxPool2D, Dense\n",
    "from keras.layers import Flatten, Dropout\n",
    "from keras.utils import to_categorical"
   ]
  },
  {
   "cell_type": "code",
   "execution_count": 2,
   "metadata": {},
   "outputs": [
    {
     "data": {
      "text/html": [
       "<div>\n",
       "<style>\n",
       "    .dataframe thead tr:only-child th {\n",
       "        text-align: right;\n",
       "    }\n",
       "\n",
       "    .dataframe thead th {\n",
       "        text-align: left;\n",
       "    }\n",
       "\n",
       "    .dataframe tbody tr th {\n",
       "        vertical-align: top;\n",
       "    }\n",
       "</style>\n",
       "<table border=\"1\" class=\"dataframe\">\n",
       "  <thead>\n",
       "    <tr style=\"text-align: right;\">\n",
       "      <th></th>\n",
       "      <th>emotion</th>\n",
       "      <th>pixels</th>\n",
       "      <th>Usage</th>\n",
       "    </tr>\n",
       "  </thead>\n",
       "  <tbody>\n",
       "    <tr>\n",
       "      <th>35087</th>\n",
       "      <td>5</td>\n",
       "      <td>152 154 147 132 144 121 71 50 52 57 67 78 98 1...</td>\n",
       "      <td>PrivateTest</td>\n",
       "    </tr>\n",
       "    <tr>\n",
       "      <th>34652</th>\n",
       "      <td>3</td>\n",
       "      <td>145 114 109 97 97 85 116 100 95 95 98 102 98 1...</td>\n",
       "      <td>PrivateTest</td>\n",
       "    </tr>\n",
       "    <tr>\n",
       "      <th>6064</th>\n",
       "      <td>2</td>\n",
       "      <td>72 78 92 105 98 72 181 95 82 65 63 74 69 61 57...</td>\n",
       "      <td>Training</td>\n",
       "    </tr>\n",
       "    <tr>\n",
       "      <th>13994</th>\n",
       "      <td>6</td>\n",
       "      <td>186 182 156 84 88 154 173 162 117 146 163 180 ...</td>\n",
       "      <td>Training</td>\n",
       "    </tr>\n",
       "    <tr>\n",
       "      <th>830</th>\n",
       "      <td>3</td>\n",
       "      <td>206 206 147 161 190 150 183 165 178 205 172 19...</td>\n",
       "      <td>Training</td>\n",
       "    </tr>\n",
       "  </tbody>\n",
       "</table>\n",
       "</div>"
      ],
      "text/plain": [
       "       emotion                                             pixels        Usage\n",
       "35087        5  152 154 147 132 144 121 71 50 52 57 67 78 98 1...  PrivateTest\n",
       "34652        3  145 114 109 97 97 85 116 100 95 95 98 102 98 1...  PrivateTest\n",
       "6064         2  72 78 92 105 98 72 181 95 82 65 63 74 69 61 57...     Training\n",
       "13994        6  186 182 156 84 88 154 173 162 117 146 163 180 ...     Training\n",
       "830          3  206 206 147 161 190 150 183 165 178 205 172 19...     Training"
      ]
     },
     "execution_count": 2,
     "metadata": {},
     "output_type": "execute_result"
    }
   ],
   "source": [
    "df = pd.read_csv('./fer2013/fer2013.csv')\n",
    "df.sample(5)"
   ]
  },
  {
   "cell_type": "code",
   "execution_count": 3,
   "metadata": {
    "collapsed": true
   },
   "outputs": [],
   "source": [
    "def error_rate(pred, target):\n",
    "    return np.mean(pred!=target)"
   ]
  },
  {
   "cell_type": "code",
   "execution_count": 4,
   "metadata": {
    "collapsed": true
   },
   "outputs": [],
   "source": [
    "def classification_rate(p, t):\n",
    "    return np.mean(p == t)"
   ]
  },
  {
   "cell_type": "code",
   "execution_count": 5,
   "metadata": {
    "collapsed": true
   },
   "outputs": [],
   "source": [
    "def ohe(labels):\n",
    "    ohe_lab = np.zeros((labels.shape[0], len(set(labels))))\n",
    "    for i in range(len(labels)):\n",
    "        ohe_lab[i, labels[i]] = 1\n",
    "    return ohe_lab     "
   ]
  },
  {
   "cell_type": "code",
   "execution_count": 6,
   "metadata": {
    "collapsed": true
   },
   "outputs": [],
   "source": [
    "def rearrange(X):\n",
    "    return (X.transpose(0, 2, 3, 1) / 255).astype(np.float32)"
   ]
  },
  {
   "cell_type": "code",
   "execution_count": 7,
   "metadata": {
    "collapsed": true
   },
   "outputs": [],
   "source": [
    "Y_all = df['emotion'].astype(int)\n",
    "X_all = []\n",
    "for i in df['pixels']:\n",
    "    X_all.append([int(p) for p in i.split()]) #acts like getData()\n",
    "X_all, Y_all = np.array(X_all), np.array(Y_all)\n",
    "X_all = np.reshape(X_all, (X_all.shape[0], 1, 48, 48)) #acts like getImageData()"
   ]
  },
  {
   "cell_type": "code",
   "execution_count": 8,
   "metadata": {},
   "outputs": [
    {
     "data": {
      "text/plain": [
       "Counter({0: 4953, 1: 547, 2: 5121, 3: 8989, 4: 6077, 5: 4002, 6: 6198})"
      ]
     },
     "execution_count": 8,
     "metadata": {},
     "output_type": "execute_result"
    }
   ],
   "source": [
    "from collections import Counter\n",
    "Counter(Y_all)"
   ]
  },
  {
   "cell_type": "code",
   "execution_count": 9,
   "metadata": {
    "collapsed": true
   },
   "outputs": [],
   "source": [
    "X = rearrange(X_all)\n",
    "Y = to_categorical(Y_all)"
   ]
  },
  {
   "cell_type": "code",
   "execution_count": 10,
   "metadata": {},
   "outputs": [
    {
     "name": "stdout",
     "output_type": "stream",
     "text": [
      "(35887, 48, 48, 1)\n",
      "<class 'numpy.ndarray'>\n",
      "(35887, 7)\n",
      "<class 'numpy.ndarray'>\n"
     ]
    }
   ],
   "source": [
    "print(X.shape)\n",
    "print(type(X))\n",
    "print(Y.shape)\n",
    "print(type(Y))"
   ]
  },
  {
   "cell_type": "code",
   "execution_count": 11,
   "metadata": {
    "collapsed": true
   },
   "outputs": [],
   "source": [
    "input_shape = X.shape[1:]\n",
    "num_classes = 7"
   ]
  },
  {
   "cell_type": "code",
   "execution_count": 12,
   "metadata": {
    "collapsed": true
   },
   "outputs": [],
   "source": [
    "X_train = X[:-1000]\n",
    "Y_train = Y[:-1000]\n",
    "X_test = X[-1000:]\n",
    "Y_test = Y[-1000:]"
   ]
  },
  {
   "cell_type": "code",
   "execution_count": 13,
   "metadata": {},
   "outputs": [
    {
     "name": "stdout",
     "output_type": "stream",
     "text": [
      "_________________________________________________________________\n",
      "Layer (type)                 Output Shape              Param #   \n",
      "=================================================================\n",
      "conv2d_1 (Conv2D)            (None, 48, 48, 16)        160       \n",
      "_________________________________________________________________\n",
      "max_pooling2d_1 (MaxPooling2 (None, 24, 24, 16)        0         \n",
      "_________________________________________________________________\n",
      "conv2d_2 (Conv2D)            (None, 24, 24, 32)        4640      \n",
      "_________________________________________________________________\n",
      "max_pooling2d_2 (MaxPooling2 (None, 12, 12, 32)        0         \n",
      "_________________________________________________________________\n",
      "conv2d_3 (Conv2D)            (None, 12, 12, 64)        18496     \n",
      "_________________________________________________________________\n",
      "max_pooling2d_3 (MaxPooling2 (None, 6, 6, 64)          0         \n",
      "_________________________________________________________________\n",
      "flatten_1 (Flatten)          (None, 2304)              0         \n",
      "_________________________________________________________________\n",
      "dense_1 (Dense)              (None, 2000)              4610000   \n",
      "_________________________________________________________________\n",
      "dense_2 (Dense)              (None, 1000)              2001000   \n",
      "_________________________________________________________________\n",
      "dense_3 (Dense)              (None, 500)               500500    \n",
      "_________________________________________________________________\n",
      "dense_4 (Dense)              (None, 7)                 3507      \n",
      "=================================================================\n",
      "Total params: 7,138,303\n",
      "Trainable params: 7,138,303\n",
      "Non-trainable params: 0\n",
      "_________________________________________________________________\n"
     ]
    }
   ],
   "source": [
    "model = Sequential()\n",
    "\n",
    "model.add(Conv2D(16, kernel_size=(3, 3), activation='relu', \n",
    "                 padding='same', use_bias=True, input_shape=input_shape))\n",
    "model.add(MaxPool2D(pool_size=(2, 2)))\n",
    "\n",
    "model.add(Conv2D(32, kernel_size=(3, 3), activation='relu', \n",
    "                 padding='same', use_bias=True))\n",
    "model.add(MaxPool2D(pool_size=(2, 2)))\n",
    "\n",
    "model.add(Conv2D(64, kernel_size=(3, 3), activation='relu', \n",
    "                 padding='same', use_bias=True))\n",
    "model.add(MaxPool2D(pool_size=(2, 2)))\n",
    "\n",
    "model.add(Flatten())\n",
    "\n",
    "model.add(Dense(2000, activation='relu'))\n",
    "model.add(Dense(1000, activation='relu'))\n",
    "model.add(Dense(500, activation='relu'))\n",
    "\n",
    "model.add(Dense(num_classes, activation='softmax'))\n",
    "\n",
    "rms = keras.optimizers.RMSprop(lr=1e-5, rho=0.99)\n",
    "model.compile(loss='categorical_crossentropy', optimizer=rms, metrics=['accuracy'])\n",
    "\n",
    "model.summary()"
   ]
  },
  {
   "cell_type": "code",
   "execution_count": 14,
   "metadata": {
    "scrolled": true
   },
   "outputs": [
    {
     "name": "stdout",
     "output_type": "stream",
     "text": [
      "Train on 34887 samples, validate on 1000 samples\n",
      "Epoch 1/50\n",
      "34887/34887 [==============================] - 79s 2ms/step - loss: 1.8063 - acc: 0.2523 - val_loss: 1.8014 - val_acc: 0.2210\n",
      "Epoch 2/50\n",
      "34887/34887 [==============================] - 77s 2ms/step - loss: 1.7713 - acc: 0.2704 - val_loss: 1.7626 - val_acc: 0.2630\n",
      "Epoch 3/50\n",
      "34887/34887 [==============================] - 78s 2ms/step - loss: 1.7344 - acc: 0.3019 - val_loss: 1.7276 - val_acc: 0.2780\n",
      "Epoch 4/50\n",
      "34887/34887 [==============================] - 76s 2ms/step - loss: 1.6914 - acc: 0.3357 - val_loss: 1.6919 - val_acc: 0.2910\n",
      "Epoch 5/50\n",
      "34887/34887 [==============================] - 77s 2ms/step - loss: 1.6501 - acc: 0.3631 - val_loss: 1.6246 - val_acc: 0.3890\n",
      "Epoch 6/50\n",
      "34887/34887 [==============================] - 77s 2ms/step - loss: 1.6189 - acc: 0.3789 - val_loss: 1.6050 - val_acc: 0.3830\n",
      "Epoch 7/50\n",
      "34887/34887 [==============================] - 76s 2ms/step - loss: 1.5969 - acc: 0.3911 - val_loss: 1.5743 - val_acc: 0.4070\n",
      "Epoch 8/50\n",
      "34887/34887 [==============================] - 77s 2ms/step - loss: 1.5819 - acc: 0.3950 - val_loss: 1.5609 - val_acc: 0.4170\n",
      "Epoch 9/50\n",
      "34887/34887 [==============================] - 78s 2ms/step - loss: 1.5706 - acc: 0.4000 - val_loss: 1.5792 - val_acc: 0.3930\n",
      "Epoch 10/50\n",
      "34887/34887 [==============================] - 77s 2ms/step - loss: 1.5581 - acc: 0.4055 - val_loss: 1.5409 - val_acc: 0.4210\n",
      "Epoch 11/50\n",
      "34887/34887 [==============================] - 72s 2ms/step - loss: 1.5492 - acc: 0.4106 - val_loss: 1.5369 - val_acc: 0.4270\n",
      "Epoch 12/50\n",
      "34887/34887 [==============================] - 72s 2ms/step - loss: 1.5394 - acc: 0.4162 - val_loss: 1.5230 - val_acc: 0.4220\n",
      "Epoch 13/50\n",
      "34887/34887 [==============================] - 72s 2ms/step - loss: 1.5307 - acc: 0.4165 - val_loss: 1.5178 - val_acc: 0.4120\n",
      "Epoch 14/50\n",
      "34887/34887 [==============================] - 72s 2ms/step - loss: 1.5218 - acc: 0.4224 - val_loss: 1.5086 - val_acc: 0.4270\n",
      "Epoch 15/50\n",
      "34887/34887 [==============================] - 71s 2ms/step - loss: 1.5144 - acc: 0.4245 - val_loss: 1.5110 - val_acc: 0.4160\n",
      "Epoch 16/50\n",
      "34887/34887 [==============================] - 72s 2ms/step - loss: 1.5068 - acc: 0.4266 - val_loss: 1.4948 - val_acc: 0.4240\n",
      "Epoch 17/50\n",
      "34887/34887 [==============================] - 72s 2ms/step - loss: 1.4990 - acc: 0.4292 - val_loss: 1.4942 - val_acc: 0.4380\n",
      "Epoch 18/50\n",
      "34887/34887 [==============================] - 74s 2ms/step - loss: 1.4928 - acc: 0.4355 - val_loss: 1.4819 - val_acc: 0.4420\n",
      "Epoch 19/50\n",
      "34887/34887 [==============================] - 74s 2ms/step - loss: 1.4855 - acc: 0.4357 - val_loss: 1.4800 - val_acc: 0.4370\n",
      "Epoch 20/50\n",
      "34887/34887 [==============================] - 73s 2ms/step - loss: 1.4777 - acc: 0.4403 - val_loss: 1.4987 - val_acc: 0.4300\n",
      "Epoch 21/50\n",
      "34887/34887 [==============================] - 73s 2ms/step - loss: 1.4708 - acc: 0.4427 - val_loss: 1.4734 - val_acc: 0.4280\n",
      "Epoch 22/50\n",
      "34887/34887 [==============================] - 74s 2ms/step - loss: 1.4634 - acc: 0.4476 - val_loss: 1.4693 - val_acc: 0.4330\n",
      "Epoch 23/50\n",
      "34887/34887 [==============================] - 72s 2ms/step - loss: 1.4579 - acc: 0.4493 - val_loss: 1.4634 - val_acc: 0.4430\n",
      "Epoch 24/50\n",
      "34887/34887 [==============================] - 73s 2ms/step - loss: 1.4511 - acc: 0.4515 - val_loss: 1.4534 - val_acc: 0.4470\n",
      "Epoch 25/50\n",
      "34887/34887 [==============================] - 72s 2ms/step - loss: 1.4424 - acc: 0.4543 - val_loss: 1.4658 - val_acc: 0.4380\n",
      "Epoch 26/50\n",
      "34887/34887 [==============================] - 72s 2ms/step - loss: 1.4369 - acc: 0.4584 - val_loss: 1.4601 - val_acc: 0.4410\n",
      "Epoch 27/50\n",
      "34887/34887 [==============================] - 72s 2ms/step - loss: 1.4298 - acc: 0.4602 - val_loss: 1.4463 - val_acc: 0.4430\n",
      "Epoch 28/50\n",
      "34887/34887 [==============================] - 73s 2ms/step - loss: 1.4220 - acc: 0.4628 - val_loss: 1.4428 - val_acc: 0.4370\n",
      "Epoch 29/50\n",
      "34887/34887 [==============================] - 74s 2ms/step - loss: 1.4164 - acc: 0.4674 - val_loss: 1.4351 - val_acc: 0.4580\n",
      "Epoch 30/50\n",
      "34887/34887 [==============================] - 73s 2ms/step - loss: 1.4079 - acc: 0.4681 - val_loss: 1.4371 - val_acc: 0.4500\n",
      "Epoch 31/50\n",
      "34887/34887 [==============================] - 73s 2ms/step - loss: 1.4015 - acc: 0.4712 - val_loss: 1.4360 - val_acc: 0.4440\n",
      "Epoch 32/50\n",
      "34887/34887 [==============================] - 73s 2ms/step - loss: 1.3936 - acc: 0.4755 - val_loss: 1.4598 - val_acc: 0.4360\n",
      "Epoch 33/50\n",
      "34887/34887 [==============================] - 73s 2ms/step - loss: 1.3868 - acc: 0.4775 - val_loss: 1.4277 - val_acc: 0.4450\n",
      "Epoch 34/50\n",
      "34887/34887 [==============================] - 79s 2ms/step - loss: 1.3802 - acc: 0.4803 - val_loss: 1.4113 - val_acc: 0.4590\n",
      "Epoch 35/50\n",
      "34887/34887 [==============================] - 87s 3ms/step - loss: 1.3737 - acc: 0.4810 - val_loss: 1.4160 - val_acc: 0.4550\n",
      "Epoch 36/50\n",
      "34887/34887 [==============================] - 87s 3ms/step - loss: 1.3669 - acc: 0.4855 - val_loss: 1.4038 - val_acc: 0.4640\n",
      "Epoch 37/50\n",
      "34887/34887 [==============================] - 88s 3ms/step - loss: 1.3599 - acc: 0.4893 - val_loss: 1.4203 - val_acc: 0.4550\n",
      "Epoch 38/50\n",
      "34887/34887 [==============================] - 87s 3ms/step - loss: 1.3529 - acc: 0.4908 - val_loss: 1.4011 - val_acc: 0.4600\n",
      "Epoch 39/50\n",
      "34887/34887 [==============================] - 87s 3ms/step - loss: 1.3452 - acc: 0.4939 - val_loss: 1.4418 - val_acc: 0.4480\n",
      "Epoch 40/50\n",
      "34887/34887 [==============================] - 85s 2ms/step - loss: 1.3383 - acc: 0.4951 - val_loss: 1.4106 - val_acc: 0.4400\n",
      "Epoch 41/50\n",
      "34887/34887 [==============================] - 77s 2ms/step - loss: 1.3330 - acc: 0.4987 - val_loss: 1.4098 - val_acc: 0.4580\n",
      "Epoch 42/50\n",
      "34887/34887 [==============================] - 79s 2ms/step - loss: 1.3266 - acc: 0.5006 - val_loss: 1.3876 - val_acc: 0.4560\n",
      "Epoch 43/50\n",
      "34887/34887 [==============================] - 86s 2ms/step - loss: 1.3189 - acc: 0.5063 - val_loss: 1.3885 - val_acc: 0.4680\n",
      "Epoch 44/50\n",
      "34887/34887 [==============================] - 87s 2ms/step - loss: 1.3104 - acc: 0.5079 - val_loss: 1.3831 - val_acc: 0.4650\n",
      "Epoch 45/50\n",
      "34887/34887 [==============================] - 85s 2ms/step - loss: 1.3060 - acc: 0.5098 - val_loss: 1.4107 - val_acc: 0.4580\n",
      "Epoch 46/50\n",
      "34887/34887 [==============================] - 85s 2ms/step - loss: 1.2969 - acc: 0.5131 - val_loss: 1.3787 - val_acc: 0.4800\n",
      "Epoch 47/50\n",
      "34887/34887 [==============================] - 76s 2ms/step - loss: 1.2910 - acc: 0.5184 - val_loss: 1.3694 - val_acc: 0.4760\n",
      "Epoch 48/50\n",
      "34887/34887 [==============================] - 77s 2ms/step - loss: 1.2836 - acc: 0.5207 - val_loss: 1.3710 - val_acc: 0.4730\n",
      "Epoch 49/50\n",
      "34887/34887 [==============================] - 77s 2ms/step - loss: 1.2780 - acc: 0.5227 - val_loss: 1.3737 - val_acc: 0.4690\n",
      "Epoch 50/50\n",
      "34887/34887 [==============================] - 78s 2ms/step - loss: 1.2710 - acc: 0.5276 - val_loss: 1.3542 - val_acc: 0.4740\n"
     ]
    }
   ],
   "source": [
    "history = model.fit(X_train, Y_train,\n",
    "                   batch_size = 100,\n",
    "                   epochs = 50,\n",
    "                   verbose = 1,\n",
    "                   validation_data=(X_test, Y_test))"
   ]
  },
  {
   "cell_type": "code",
   "execution_count": 15,
   "metadata": {},
   "outputs": [
    {
     "data": {
      "image/png": "[encoded data removed]",
      "text/plain": [
       "<matplotlib.figure.Figure at 0x11ed7ea90>"
      ]
     },
     "metadata": {},
     "output_type": "display_data"
    }
   ],
   "source": [
    "plt.plot(history.history['loss'])\n",
    "plt.show()"
   ]
  },
  {
   "cell_type": "code",
   "execution_count": 16,
   "metadata": {},
   "outputs": [
    {
     "data": {
      "image/png": "[encoded data removed]",
      "text/plain": [
       "<matplotlib.figure.Figure at 0x133a06160>"
      ]
     },
     "metadata": {},
     "output_type": "display_data"
    }
   ],
   "source": [
    "plt.plot(history.history['val_loss'])\n",
    "plt.show()"
   ]
  },
  {
   "cell_type": "code",
   "execution_count": 17,
   "metadata": {},
   "outputs": [
    {
     "data": {
      "image/png": "[encoded data removed]",
      "text/plain": [
       "<matplotlib.figure.Figure at 0x133a0b550>"
      ]
     },
     "metadata": {},
     "output_type": "display_data"
    }
   ],
   "source": [
    "plt.plot(np.ones(len(history.history['acc']))-history.history['acc'])\n",
    "plt.show()"
   ]
  },
  {
   "cell_type": "code",
   "execution_count": 18,
   "metadata": {},
   "outputs": [
    {
     "data": {
      "image/png": "[encoded data removed]",
      "text/plain": [
       "<matplotlib.figure.Figure at 0x133a537b8>"
      ]
     },
     "metadata": {},
     "output_type": "display_data"
    }
   ],
   "source": [
    "plt.plot(np.ones(len(history.history['val_acc']))-history.history['val_acc'])\n",
    "plt.show()"
   ]
  },
  {
   "cell_type": "code",
   "execution_count": null,
   "metadata": {
    "collapsed": true
   },
   "outputs": [],
   "source": []
  }
 ],
 "metadata": {
  "kernelspec": {
   "display_name": "Python 3",
   "language": "python",
   "name": "python3"
  },
  "language_info": {
   "codemirror_mode": {
    "name": "ipython",
    "version": 3
   },
   "file_extension": ".py",
   "mimetype": "text/x-python",
   "name": "python",
   "nbconvert_exporter": "python",
   "pygments_lexer": "ipython3",
   "version": "3.6.1"
  }
 },
 "nbformat": 4,
 "nbformat_minor": 2
}
