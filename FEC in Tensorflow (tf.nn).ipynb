{
 "cells": [
  {
   "cell_type": "code",
   "execution_count": 1,
   "metadata": {},
   "outputs": [
    {
     "name": "stderr",
     "output_type": "stream",
     "text": [
      "/Users/michal/anaconda/lib/python3.6/site-packages/h5py/__init__.py:34: FutureWarning: Conversion of the second argument of issubdtype from `float` to `np.floating` is deprecated. In future, it will be treated as `np.float64 == np.dtype(float).type`.\n",
      "  from ._conv import register_converters as _register_converters\n"
     ]
    }
   ],
   "source": [
    "import numpy as np\n",
    "import pandas as pd\n",
    "import matplotlib.pyplot as plt\n",
    "import tensorflow as tf\n",
    "from sklearn.utils import shuffle"
   ]
  },
  {
   "cell_type": "code",
   "execution_count": 2,
   "metadata": {
    "scrolled": true
   },
   "outputs": [
    {
     "data": {
      "text/html": [
       "<div>\n",
       "<style>\n",
       "    .dataframe thead tr:only-child th {\n",
       "        text-align: right;\n",
       "    }\n",
       "\n",
       "    .dataframe thead th {\n",
       "        text-align: left;\n",
       "    }\n",
       "\n",
       "    .dataframe tbody tr th {\n",
       "        vertical-align: top;\n",
       "    }\n",
       "</style>\n",
       "<table border=\"1\" class=\"dataframe\">\n",
       "  <thead>\n",
       "    <tr style=\"text-align: right;\">\n",
       "      <th></th>\n",
       "      <th>emotion</th>\n",
       "      <th>pixels</th>\n",
       "      <th>Usage</th>\n",
       "    </tr>\n",
       "  </thead>\n",
       "  <tbody>\n",
       "    <tr>\n",
       "      <th>14429</th>\n",
       "      <td>3</td>\n",
       "      <td>173 100 82 77 58 10 26 71 126 143 156 181 178 ...</td>\n",
       "      <td>Training</td>\n",
       "    </tr>\n",
       "    <tr>\n",
       "      <th>19056</th>\n",
       "      <td>3</td>\n",
       "      <td>201 203 206 208 210 214 216 217 238 244 200 22...</td>\n",
       "      <td>Training</td>\n",
       "    </tr>\n",
       "    <tr>\n",
       "      <th>30364</th>\n",
       "      <td>4</td>\n",
       "      <td>180 183 187 181 167 168 181 181 177 176 177 16...</td>\n",
       "      <td>PublicTest</td>\n",
       "    </tr>\n",
       "    <tr>\n",
       "      <th>28710</th>\n",
       "      <td>1</td>\n",
       "      <td>156 184 198 202 204 207 210 212 213 214 215 21...</td>\n",
       "      <td>PublicTest</td>\n",
       "    </tr>\n",
       "    <tr>\n",
       "      <th>10226</th>\n",
       "      <td>0</td>\n",
       "      <td>254 217 94 51 45 42 42 39 55 78 116 139 136 13...</td>\n",
       "      <td>Training</td>\n",
       "    </tr>\n",
       "  </tbody>\n",
       "</table>\n",
       "</div>"
      ],
      "text/plain": [
       "       emotion                                             pixels       Usage\n",
       "14429        3  173 100 82 77 58 10 26 71 126 143 156 181 178 ...    Training\n",
       "19056        3  201 203 206 208 210 214 216 217 238 244 200 22...    Training\n",
       "30364        4  180 183 187 181 167 168 181 181 177 176 177 16...  PublicTest\n",
       "28710        1  156 184 198 202 204 207 210 212 213 214 215 21...  PublicTest\n",
       "10226        0  254 217 94 51 45 42 42 39 55 78 116 139 136 13...    Training"
      ]
     },
     "execution_count": 2,
     "metadata": {},
     "output_type": "execute_result"
    }
   ],
   "source": [
    "df = pd.read_csv('../data/fer2013/fer2013.csv')\n",
    "df.sample(5)"
   ]
  },
  {
   "cell_type": "code",
   "execution_count": 3,
   "metadata": {
    "collapsed": true
   },
   "outputs": [],
   "source": [
    "def error_rate(pred, target):\n",
    "    return np.mean(pred!=target)"
   ]
  },
  {
   "cell_type": "code",
   "execution_count": 4,
   "metadata": {
    "collapsed": true
   },
   "outputs": [],
   "source": [
    "def classification_rate(p, t):\n",
    "    return np.mean(p == t)"
   ]
  },
  {
   "cell_type": "code",
   "execution_count": 5,
   "metadata": {
    "collapsed": true
   },
   "outputs": [],
   "source": [
    "def ohe(labels):\n",
    "    ohe_lab = np.zeros((labels.shape[0], len(set(labels))))\n",
    "    for i in range(len(labels)):\n",
    "        ohe_lab[i, labels[i]] = 1\n",
    "    return ohe_lab     "
   ]
  },
  {
   "cell_type": "code",
   "execution_count": 6,
   "metadata": {
    "collapsed": true
   },
   "outputs": [],
   "source": [
    "def rearrange(X):\n",
    "    return (X.transpose(0, 2, 3, 1) / 255).astype(np.float32)"
   ]
  },
  {
   "cell_type": "code",
   "execution_count": 7,
   "metadata": {
    "collapsed": true
   },
   "outputs": [],
   "source": [
    "Y_all = df['emotion'].astype(int)\n",
    "X_all = []\n",
    "for i in df['pixels']:\n",
    "    X_all.append([int(p) for p in i.split()]) #acts like getData()\n",
    "X_all, Y_all = np.array(X_all), np.array(Y_all)\n",
    "X_all = np.reshape(X_all, (X_all.shape[0], 1, 48, 48)) #acts like getImageData()"
   ]
  },
  {
   "cell_type": "code",
   "execution_count": 8,
   "metadata": {
    "collapsed": true
   },
   "outputs": [],
   "source": [
    "X = rearrange(X_all)\n",
    "Y = ohe(Y_all)"
   ]
  },
  {
   "cell_type": "code",
   "execution_count": 9,
   "metadata": {},
   "outputs": [
    {
     "name": "stdout",
     "output_type": "stream",
     "text": [
      "(35887, 48, 48, 1)\n",
      "<class 'numpy.ndarray'>\n",
      "(35887, 7)\n",
      "<class 'numpy.ndarray'>\n"
     ]
    }
   ],
   "source": [
    "print(X.shape)\n",
    "print(type(X))\n",
    "print(Y.shape)\n",
    "print(type(Y))"
   ]
  },
  {
   "cell_type": "code",
   "execution_count": 10,
   "metadata": {},
   "outputs": [
    {
     "data": {
      "image/png": "[encoded data removed]",
      "text/plain": [
       "<matplotlib.figure.Figure at 0x1256ff588>"
      ]
     },
     "metadata": {},
     "output_type": "display_data"
    },
    {
     "data": {
      "image/png": "[encoded data removed]",
      "text/plain": [
       "<matplotlib.figure.Figure at 0x1460c2588>"
      ]
     },
     "metadata": {},
     "output_type": "display_data"
    },
    {
     "data": {
      "image/png": "[encoded data removed]",
      "text/plain": [
       "<matplotlib.figure.Figure at 0x1460a04e0>"
      ]
     },
     "metadata": {},
     "output_type": "display_data"
    },
    {
     "data": {
      "image/png": "[encoded data removed]",
      "text/plain": [
       "<matplotlib.figure.Figure at 0x1460c5320>"
      ]
     },
     "metadata": {},
     "output_type": "display_data"
    },
    {
     "data": {
      "image/png": "[encoded data removed]",
      "text/plain": [
       "<matplotlib.figure.Figure at 0x125dbfda0>"
      ]
     },
     "metadata": {},
     "output_type": "display_data"
    },
    {
     "data": {
      "image/png": "[encoded data removed]",
      "text/plain": [
       "<matplotlib.figure.Figure at 0x125dc5c50>"
      ]
     },
     "metadata": {},
     "output_type": "display_data"
    },
    {
     "data": {
      "image/png": "[encoded data removed]",
      "text/plain": [
       "<matplotlib.figure.Figure at 0x1256ff5f8>"
      ]
     },
     "metadata": {},
     "output_type": "display_data"
    }
   ],
   "source": [
    "# show one of each emtion randomly\n",
    "label_map = ['Anger', 'Disgust', 'Fear', 'Happy', 'Sad', 'Surprise', 'Neutral']\n",
    "\n",
    "for i in range(7):\n",
    "    x, y = X_all[Y_all==i], Y_all[Y_all==i]\n",
    "    N = len(y)\n",
    "    j = np.random.choice(N)\n",
    "    plt.imshow(x[j].reshape(48,48), cmap='gray')\n",
    "    plt.title(label_map[y[j]])\n",
    "    plt.show()"
   ]
  },
  {
   "cell_type": "code",
   "execution_count": 11,
   "metadata": {
    "collapsed": true
   },
   "outputs": [],
   "source": [
    "def conv_pool(X, W, b):\n",
    "    conv_out = tf.nn.conv2d(X, W, strides=[1,1,1,1], padding='SAME')\n",
    "    conv_out = tf.nn.bias_add(conv_out, b)\n",
    "    conv_act = tf.nn.relu(conv_out)\n",
    "    pool_out = tf.nn.max_pool(conv_act, [1,2,2,1], [1,2,2,1], padding='SAME')\n",
    "    return pool_out"
   ]
  },
  {
   "cell_type": "code",
   "execution_count": 12,
   "metadata": {
    "collapsed": true
   },
   "outputs": [],
   "source": [
    "max_iter = 50\n",
    "print_period = 20\n",
    "lr = 1e-5\n",
    "reg = 1e-2"
   ]
  },
  {
   "cell_type": "code",
   "execution_count": 13,
   "metadata": {
    "collapsed": true
   },
   "outputs": [],
   "source": [
    "X_train = X[:-1000]\n",
    "Y_train = Y[:-1000]\n",
    "X_test = X[-1000:]\n",
    "Y_test = Y[-1000:]"
   ]
  },
  {
   "cell_type": "code",
   "execution_count": 14,
   "metadata": {
    "collapsed": true
   },
   "outputs": [],
   "source": [
    "N = X_train.shape[0]\n",
    "batch_size = 256\n",
    "num_batches = N//batch_size"
   ]
  },
  {
   "cell_type": "code",
   "execution_count": 15,
   "metadata": {
    "collapsed": true
   },
   "outputs": [],
   "source": [
    "# input filter size\n",
    "# filter_size = (3, 3)\n",
    "# filter_weighs -> (width, height, col_chan, feat_maps)\n",
    "W1_cp_init = np.random.randn(3, 3, 1, 16)\n",
    "b1_cp_init = np.zeros(16)\n",
    "W2_cp_init = np.random.randn(3, 3, 16, 32)\n",
    "b2_cp_init = np.zeros(32)\n",
    "W3_cp_init = np.random.randn(3, 3, 32, 64)\n",
    "b3_cp_init = np.zeros(64)"
   ]
  },
  {
   "cell_type": "code",
   "execution_count": 16,
   "metadata": {},
   "outputs": [
    {
     "data": {
      "text/plain": [
       "2304"
      ]
     },
     "execution_count": 16,
     "metadata": {},
     "output_type": "execute_result"
    }
   ],
   "source": [
    "# image size = 6x6, num filters = 64\n",
    "dense_input = 6*6*64 \n",
    "dense_input"
   ]
  },
  {
   "cell_type": "code",
   "execution_count": 17,
   "metadata": {
    "collapsed": true
   },
   "outputs": [],
   "source": [
    "# hidden layer1 nodes\n",
    "M1 = 512\n",
    "# hidden layer2 nodes\n",
    "M2 = 256\n",
    "# hidden layer3 nodes\n",
    "M3 = 128\n",
    "# output nodes\n",
    "K = 7\n",
    "# starting wieghts\n",
    "W1_init = np.random.randn(dense_input, M1) / np.sqrt(dense_input+ M1)\n",
    "b1_init = np.zeros(M1)\n",
    "W2_init = np.random.randn(M1, M2) / np.sqrt(M1+M2)\n",
    "b2_init = np.zeros(M2)\n",
    "W3_init = np.random.randn(M2, M3) / np.sqrt(M2+M3)\n",
    "b3_init = np.zeros(M3)\n",
    "W4_init = np.random.randn(M3, K) / np.sqrt(M3+K)\n",
    "b4_init = np.zeros(K)"
   ]
  },
  {
   "cell_type": "code",
   "execution_count": 18,
   "metadata": {
    "collapsed": true
   },
   "outputs": [],
   "source": [
    "# get TF variables for the inputs, X and targets T\n",
    "ftX = tf.placeholder(tf.float32, shape=(None, 48, 48, 1), name='X')\n",
    "ftT = tf.placeholder(tf.float32, shape=(None, K), name='T')"
   ]
  },
  {
   "cell_type": "code",
   "execution_count": 19,
   "metadata": {
    "collapsed": true
   },
   "outputs": [],
   "source": [
    "#get TF variables wieghts and biases - CONV\n",
    "W1_cp = tf.Variable(W1_cp_init.astype(np.float32))\n",
    "b1_cp = tf.Variable(b1_cp_init.astype(np.float32))\n",
    "W2_cp = tf.Variable(W2_cp_init.astype(np.float32))\n",
    "b2_cp = tf.Variable(b2_cp_init.astype(np.float32))\n",
    "W3_cp = tf.Variable(W3_cp_init.astype(np.float32))\n",
    "b3_cp = tf.Variable(b3_cp_init.astype(np.float32))"
   ]
  },
  {
   "cell_type": "code",
   "execution_count": 20,
   "metadata": {
    "collapsed": true
   },
   "outputs": [],
   "source": [
    "# get TF variables wieghts and biases _ DENSE\n",
    "W1 = tf.Variable(W1_init.astype(np.float32))\n",
    "b1 = tf.Variable(b1_init.astype(np.float32))\n",
    "W2 = tf.Variable(W2_init.astype(np.float32))\n",
    "b2 = tf.Variable(b2_init.astype(np.float32))\n",
    "W3 = tf.Variable(W3_init.astype(np.float32))\n",
    "b3 = tf.Variable(b3_init.astype(np.float32))\n",
    "W4 = tf.Variable(W4_init.astype(np.float32))\n",
    "b4 = tf.Variable(b4_init.astype(np.float32))"
   ]
  },
  {
   "cell_type": "code",
   "execution_count": 21,
   "metadata": {
    "collapsed": true
   },
   "outputs": [],
   "source": [
    "Z1 = conv_pool(ftX, W1_cp, b1_cp)\n",
    "Z2 = conv_pool(Z1, W2_cp, b2_cp)\n",
    "Z3 = conv_pool(Z2, W3_cp, b3_cp)\n",
    "\n",
    "Z3_shape = Z3.get_shape().as_list()\n",
    "Z3_r = tf.reshape(Z3, [-1, np.prod(Z3_shape[1:])])\n",
    "\n",
    "Z4 = tf.nn.relu(tf.matmul(Z3_r, W1)+b1)\n",
    "Z5 = tf.nn.relu(tf.matmul(Z4, W2)+b2)\n",
    "Z6 = tf.nn.relu(tf.matmul(Z5, W3)+b3)\n",
    "Yish = tf.matmul(Z6, W4)+b4"
   ]
  },
  {
   "cell_type": "code",
   "execution_count": 22,
   "metadata": {
    "collapsed": true
   },
   "outputs": [],
   "source": [
    "cost = tf.reduce_mean(tf.nn.softmax_cross_entropy_with_logits_v2(\n",
    "    labels=ftT, logits=Yish)) #+ rcost"
   ]
  },
  {
   "cell_type": "code",
   "execution_count": 23,
   "metadata": {
    "collapsed": true
   },
   "outputs": [],
   "source": [
    "pred = tf.argmax(Yish, 1)"
   ]
  },
  {
   "cell_type": "code",
   "execution_count": 24,
   "metadata": {
    "collapsed": true
   },
   "outputs": [],
   "source": [
    "train_op = tf.train.RMSPropOptimizer(lr, decay=0.999, momentum=0.99).minimize(cost)"
   ]
  },
  {
   "cell_type": "code",
   "execution_count": 25,
   "metadata": {
    "scrolled": true
   },
   "outputs": [
    {
     "name": "stdout",
     "output_type": "stream",
     "text": [
      "0 0 56.97063 0.972\n",
      "0 20 19.258448 0.852\n",
      "0 40 10.572841 0.815\n",
      "0 60 8.546512 0.811\n",
      "0 80 10.790043 0.788\n",
      "0 100 13.37073 0.83\n",
      "0 120 9.22308 0.82\n",
      "1 0 6.436665 0.85\n",
      "1 20 5.247936 0.797\n",
      "1 40 5.9599533 0.777\n",
      "1 60 5.1857195 0.795\n",
      "1 80 2.9763021 0.837\n",
      "1 100 3.002238 0.852\n",
      "1 120 2.0900357 0.802\n",
      "2 0 2.0900137 0.793\n",
      "2 20 2.1071265 0.798\n",
      "2 40 2.106962 0.751\n",
      "2 60 1.9977404 0.801\n",
      "2 80 1.9051356 0.763\n",
      "2 100 1.8694513 0.804\n",
      "2 120 1.8470168 0.768\n",
      "3 0 1.8037072 0.757\n",
      "3 20 1.7787558 0.726\n",
      "3 40 1.8165532 0.744\n",
      "3 60 1.7888901 0.728\n",
      "3 80 1.7854365 0.729\n",
      "3 100 1.7789729 0.733\n",
      "3 120 1.7642944 0.736\n",
      "4 0 1.77854 0.741\n",
      "4 20 1.7483776 0.701\n",
      "4 40 1.7494705 0.712\n",
      "4 60 1.7630806 0.729\n",
      "4 80 1.7488132 0.702\n",
      "4 100 1.7473079 0.708\n",
      "4 120 1.7603713 0.739\n",
      "5 0 1.7399757 0.706\n",
      "5 20 1.7478787 0.714\n",
      "5 40 1.746778 0.726\n",
      "5 60 1.7290379 0.68\n",
      "5 80 1.7244678 0.705\n",
      "5 100 1.7223608 0.704\n",
      "5 120 1.7326031 0.676\n",
      "6 0 1.718301 0.701\n",
      "6 20 1.7328608 0.716\n",
      "6 40 1.7120564 0.671\n",
      "6 60 1.7193979 0.697\n",
      "6 80 1.7130977 0.688\n",
      "6 100 1.7162409 0.674\n",
      "6 120 1.712865 0.697\n",
      "7 0 1.6994098 0.672\n",
      "7 20 1.7019756 0.666\n",
      "7 40 1.6982908 0.685\n",
      "7 60 1.6968346 0.677\n",
      "7 80 1.689295 0.664\n",
      "7 100 1.6859148 0.666\n",
      "7 120 1.6847855 0.667\n",
      "8 0 1.689249 0.665\n",
      "8 20 1.6752429 0.649\n",
      "8 40 1.6857568 0.664\n",
      "8 60 1.6836963 0.654\n",
      "8 80 1.6794993 0.663\n",
      "8 100 1.6683402 0.643\n",
      "8 120 1.6724192 0.667\n",
      "9 0 1.674188 0.638\n",
      "9 20 1.668771 0.664\n",
      "9 40 1.6631538 0.627\n",
      "9 60 1.6664288 0.665\n",
      "9 80 1.6589644 0.637\n",
      "9 100 1.666277 0.66\n",
      "9 120 1.660672 0.635\n",
      "10 0 1.6564808 0.65\n",
      "10 20 1.6527596 0.656\n",
      "10 40 1.6583914 0.663\n",
      "10 60 1.6674861 0.65\n",
      "10 80 1.6434755 0.643\n",
      "10 100 1.6481214 0.657\n",
      "10 120 1.6518469 0.651\n",
      "11 0 1.6465454 0.632\n",
      "11 20 1.639484 0.645\n",
      "11 40 1.6379253 0.61\n",
      "11 60 1.6334221 0.634\n",
      "11 80 1.626178 0.635\n",
      "11 100 1.6259947 0.61\n",
      "11 120 1.6395966 0.651\n",
      "12 0 1.6226882 0.616\n",
      "12 20 1.6265007 0.63\n",
      "12 40 1.6242471 0.624\n",
      "12 60 1.6451976 0.641\n",
      "12 80 1.621616 0.625\n",
      "12 100 1.6322545 0.637\n",
      "12 120 1.6720303 0.659\n",
      "13 0 1.6172379 0.615\n",
      "13 20 1.6116058 0.609\n",
      "13 40 1.6158314 0.619\n",
      "13 60 1.6076115 0.602\n",
      "13 80 1.6119149 0.592\n",
      "13 100 1.6050757 0.604\n",
      "13 120 1.6126423 0.602\n",
      "14 0 1.6081103 0.628\n",
      "14 20 1.6022854 0.589\n",
      "14 40 1.597691 0.608\n",
      "14 60 1.6059643 0.622\n",
      "14 80 1.5932747 0.614\n",
      "14 100 1.5952668 0.599\n",
      "14 120 1.5935024 0.607\n",
      "15 0 1.6004345 0.606\n",
      "15 20 1.6079291 0.624\n",
      "15 40 1.6039009 0.623\n",
      "15 60 1.6129639 0.62\n",
      "15 80 1.5979877 0.62\n",
      "15 100 1.6027275 0.61\n",
      "15 120 1.6081433 0.623\n",
      "16 0 1.6019413 0.619\n",
      "16 20 1.6139077 0.628\n",
      "16 40 1.5805538 0.595\n",
      "16 60 1.5766809 0.601\n",
      "16 80 1.5884111 0.59\n",
      "16 100 1.5825231 0.6\n",
      "16 120 1.589922 0.599\n",
      "17 0 1.5897347 0.616\n",
      "17 20 1.5856893 0.6\n",
      "17 40 1.5910665 0.599\n",
      "17 60 1.5918525 0.609\n",
      "17 80 1.5863943 0.613\n",
      "17 100 1.5954427 0.614\n",
      "17 120 1.5817784 0.628\n",
      "18 0 1.5914593 0.604\n",
      "18 20 1.5801692 0.611\n",
      "18 40 1.5683113 0.609\n",
      "18 60 1.5677742 0.601\n",
      "18 80 1.5645566 0.588\n",
      "18 100 1.5635955 0.59\n",
      "18 120 1.5767603 0.61\n",
      "19 0 1.5705242 0.604\n",
      "19 20 1.5636656 0.592\n",
      "19 40 1.5651618 0.604\n",
      "19 60 1.5651988 0.603\n",
      "19 80 1.5703309 0.6\n",
      "19 100 1.5548748 0.585\n",
      "19 120 1.5821018 0.608\n",
      "20 0 1.5614722 0.587\n",
      "20 20 1.6200051 0.608\n",
      "20 40 1.6035984 0.616\n",
      "20 60 1.6528354 0.636\n",
      "20 80 1.6067947 0.617\n",
      "20 100 1.6053838 0.625\n",
      "20 120 1.6057587 0.619\n",
      "21 0 1.5791475 0.6\n",
      "21 20 1.593745 0.61\n",
      "21 40 1.63454 0.621\n",
      "21 60 1.6925592 0.69\n",
      "21 80 1.6656059 0.647\n",
      "21 100 1.5995237 0.633\n",
      "21 120 1.5680707 0.612\n",
      "22 0 1.5728865 0.607\n",
      "22 20 1.5629634 0.591\n",
      "22 40 1.5609658 0.592\n",
      "22 60 1.5507872 0.587\n",
      "22 80 1.5649276 0.585\n",
      "22 100 1.5670537 0.604\n",
      "22 120 1.5627561 0.596\n",
      "23 0 1.557012 0.609\n",
      "23 20 1.5477078 0.584\n",
      "23 40 1.567741 0.602\n",
      "23 60 1.5583961 0.612\n",
      "23 80 1.5623198 0.613\n",
      "23 100 1.5378232 0.596\n",
      "23 120 1.5455655 0.589\n",
      "24 0 1.5330299 0.584\n",
      "24 20 1.5747638 0.61\n",
      "24 40 1.533288 0.579\n",
      "24 60 1.5445186 0.59\n",
      "24 80 1.5328301 0.582\n",
      "24 100 1.534475 0.584\n",
      "24 120 1.5239805 0.581\n",
      "25 0 1.539489 0.597\n",
      "25 20 1.5250353 0.593\n",
      "25 40 1.5353224 0.58\n",
      "25 60 1.5339763 0.593\n",
      "25 80 1.527388 0.592\n",
      "25 100 1.5618333 0.61\n",
      "25 120 1.5661142 0.605\n",
      "26 0 1.5170659 0.575\n",
      "26 20 1.5221884 0.59\n",
      "26 40 1.5619166 0.604\n",
      "26 60 1.5659897 0.596\n",
      "26 80 1.5289134 0.585\n",
      "26 100 1.6422975 0.631\n",
      "26 120 1.5558723 0.59\n",
      "27 0 1.5591737 0.605\n",
      "27 20 1.5252708 0.58\n",
      "27 40 1.5328391 0.596\n",
      "27 60 1.5158933 0.575\n",
      "27 80 1.517331 0.575\n",
      "27 100 1.5278962 0.58\n",
      "27 120 1.5450337 0.59\n",
      "28 0 1.5227125 0.593\n",
      "28 20 1.5233952 0.595\n",
      "28 40 1.5152627 0.581\n",
      "28 60 1.5035512 0.576\n",
      "28 80 1.5129842 0.577\n",
      "28 100 1.5106131 0.57\n",
      "28 120 1.5280468 0.581\n",
      "29 0 1.515283 0.584\n",
      "29 20 1.5247365 0.588\n",
      "29 40 1.5114253 0.591\n",
      "29 60 1.5508306 0.604\n",
      "29 80 1.5227883 0.587\n",
      "29 100 1.5108384 0.568\n",
      "29 120 1.604348 0.592\n",
      "30 0 1.5889344 0.621\n",
      "30 20 1.5619498 0.615\n",
      "30 40 1.5253632 0.594\n",
      "30 60 1.5803685 0.596\n",
      "30 80 1.5607548 0.613\n",
      "30 100 1.6005186 0.61\n",
      "30 120 1.5434628 0.603\n",
      "31 0 1.5591841 0.597\n",
      "31 20 1.5256908 0.599\n",
      "31 40 1.5288649 0.602\n",
      "31 60 1.5145012 0.576\n",
      "31 80 1.5533626 0.601\n",
      "31 100 1.4976423 0.57\n",
      "31 120 1.5039759 0.571\n",
      "32 0 1.5242803 0.597\n",
      "32 20 1.5005511 0.576\n",
      "32 40 1.5106585 0.579\n",
      "32 60 1.5016247 0.583\n",
      "32 80 1.48252 0.574\n",
      "32 100 1.4837136 0.571\n",
      "32 120 1.4908639 0.581\n",
      "33 0 1.5272053 0.585\n",
      "33 20 1.49822 0.579\n",
      "33 40 1.5664556 0.613\n",
      "33 60 1.575869 0.612\n",
      "33 80 1.5776899 0.619\n",
      "33 100 1.5101354 0.589\n",
      "33 120 1.5708259 0.605\n",
      "34 0 1.527791 0.593\n",
      "34 20 1.631656 0.602\n",
      "34 40 1.528917 0.623\n",
      "34 60 1.5209488 0.596\n",
      "34 80 1.5305933 0.575\n",
      "34 100 1.5358595 0.602\n",
      "34 120 1.5219297 0.583\n",
      "35 0 1.5419956 0.602\n",
      "35 20 1.5114889 0.58\n",
      "35 40 1.5039594 0.573\n",
      "35 60 1.5193896 0.578\n",
      "35 80 1.5350864 0.583\n",
      "35 100 1.5298975 0.59\n",
      "35 120 1.5287192 0.59\n",
      "36 0 1.5275365 0.601\n",
      "36 20 1.4970291 0.59\n",
      "36 40 1.4898444 0.571\n",
      "36 60 1.5299196 0.579\n",
      "36 80 1.5235627 0.588\n",
      "36 100 1.4864441 0.567\n",
      "36 120 1.6022016 0.624\n",
      "37 0 1.4976147 0.584\n",
      "37 20 1.4860246 0.57\n",
      "37 40 1.5339165 0.586\n",
      "37 60 1.4773575 0.568\n",
      "37 80 1.5041269 0.604\n",
      "37 100 1.5162547 0.576\n",
      "37 120 1.5122231 0.569\n",
      "38 0 1.5088956 0.589\n",
      "38 20 1.5301411 0.588\n",
      "38 40 1.4830282 0.576\n",
      "38 60 1.5488377 0.584\n",
      "38 80 1.5395321 0.61\n",
      "38 100 1.5181412 0.59\n",
      "38 120 1.494029 0.581\n",
      "39 0 1.5081165 0.584\n",
      "39 20 1.5115879 0.576\n",
      "39 40 1.520615 0.589\n",
      "39 60 1.5185615 0.576\n",
      "39 80 1.5361072 0.591\n",
      "39 100 1.5544912 0.594\n",
      "39 120 1.5351768 0.598\n",
      "40 0 1.5134753 0.586\n",
      "40 20 1.5094751 0.566\n",
      "40 40 1.4809973 0.565\n",
      "40 60 1.4822911 0.574\n",
      "40 80 1.4541329 0.565\n",
      "40 100 1.5024402 0.585\n",
      "40 120 1.4691614 0.556\n",
      "41 0 1.4696194 0.557\n",
      "41 20 1.4637761 0.564\n",
      "41 40 1.4960274 0.561\n",
      "41 60 1.5166258 0.582\n",
      "41 80 1.4714404 0.565\n",
      "41 100 1.502351 0.587\n",
      "41 120 1.4935578 0.598\n",
      "42 0 1.5146304 0.568\n",
      "42 20 1.4822092 0.599\n",
      "42 40 1.4831424 0.578\n",
      "42 60 1.5386744 0.591\n",
      "42 80 1.4952508 0.575\n",
      "42 100 1.4821925 0.57\n",
      "42 120 1.4805236 0.565\n",
      "43 0 1.5167501 0.594\n",
      "43 20 1.5445336 0.592\n",
      "43 40 1.5730919 0.591\n",
      "43 60 1.5322275 0.601\n",
      "43 80 1.5459588 0.588\n",
      "43 100 1.4809291 0.574\n",
      "43 120 1.4951645 0.581\n",
      "44 0 1.4727087 0.568\n",
      "44 20 1.4833827 0.572\n",
      "44 40 1.4742929 0.56\n",
      "44 60 1.5393072 0.585\n",
      "44 80 1.4718568 0.561\n",
      "44 100 1.4767616 0.554\n",
      "44 120 1.4840884 0.58\n",
      "45 0 1.4676696 0.562\n",
      "45 20 1.479417 0.57\n",
      "45 40 1.4883403 0.573\n",
      "45 60 1.472234 0.57\n",
      "45 80 1.5069981 0.564\n",
      "45 100 1.4512312 0.555\n",
      "45 120 1.4837571 0.566\n",
      "46 0 1.4793013 0.57\n",
      "46 20 1.4510368 0.561\n",
      "46 40 1.4581604 0.564\n",
      "46 60 1.4648924 0.555\n",
      "46 80 1.4979432 0.578\n",
      "46 100 1.474481 0.567\n",
      "46 120 1.4552077 0.562\n",
      "47 0 1.4764447 0.572\n",
      "47 20 1.4742185 0.56\n",
      "47 40 1.500159 0.554\n",
      "47 60 1.5353271 0.595\n",
      "47 80 1.4658622 0.552\n",
      "47 100 1.4686904 0.563\n",
      "47 120 1.4757429 0.575\n",
      "48 0 1.4632621 0.561\n",
      "48 20 1.4506296 0.55\n",
      "48 40 1.4430469 0.549\n",
      "48 60 1.441926 0.555\n",
      "48 80 1.4644697 0.566\n",
      "48 100 1.444877 0.557\n",
      "48 120 1.4630325 0.566\n",
      "49 0 1.4702305 0.552\n",
      "49 20 1.452352 0.575\n",
      "49 40 1.4947405 0.557\n",
      "49 60 1.4962547 0.569\n",
      "49 80 1.5035812 0.552\n",
      "49 100 1.5158826 0.586\n",
      "49 120 1.4637917 0.56\n"
     ]
    }
   ],
   "source": [
    "LL = []\n",
    "error = []\n",
    "init = tf.global_variables_initializer()\n",
    "with tf.Session() as sess:\n",
    "    sess.run(init)\n",
    "    for i in range(max_iter):\n",
    "        X_train, Y_train = shuffle(X_train, Y_train)\n",
    "        for j in range(num_batches):\n",
    "            X_batch = X_train[(j*batch_size):(j*batch_size+batch_size)]\n",
    "            Y_batch = Y_train[(j*batch_size):(j*batch_size+batch_size)]\n",
    "        \n",
    "            sess.run(train_op, feed_dict = {ftX: X_batch, ftT: Y_batch})\n",
    "            if j % print_period == 0:\n",
    "                cost_val = sess.run(cost, feed_dict={ftX: X_test, ftT: Y_test})\n",
    "                pred_val = sess.run(pred, feed_dict={ftX: X_test})\n",
    "                err = error_rate(pred_val, Y_test.argmax(axis = 1))\n",
    "                print(i,j,cost_val,err)\n",
    "                LL.append(cost_val)\n",
    "                error.append(err)"
   ]
  },
  {
   "cell_type": "code",
   "execution_count": 26,
   "metadata": {},
   "outputs": [
    {
     "data": {
      "image/png": "[encoded data removed]",
      "text/plain": [
       "<matplotlib.figure.Figure at 0x10e29f198>"
      ]
     },
     "metadata": {},
     "output_type": "display_data"
    }
   ],
   "source": [
    "plt.plot(LL)\n",
    "plt.show()"
   ]
  },
  {
   "cell_type": "code",
   "execution_count": 27,
   "metadata": {},
   "outputs": [
    {
     "data": {
      "image/png": "[encoded data removed]",
      "text/plain": [
       "<matplotlib.figure.Figure at 0x174c2b4a8>"
      ]
     },
     "metadata": {},
     "output_type": "display_data"
    }
   ],
   "source": [
    "plt.plot(error)\n",
    "plt.show()"
   ]
  }
 ],
 "metadata": {
  "kernelspec": {
   "display_name": "Python 3",
   "language": "python",
   "name": "python3"
  },
  "language_info": {
   "codemirror_mode": {
    "name": "ipython",
    "version": 3
   },
   "file_extension": ".py",
   "mimetype": "text/x-python",
   "name": "python",
   "nbconvert_exporter": "python",
   "pygments_lexer": "ipython3",
   "version": "3.6.1"
  }
 },
 "nbformat": 4,
 "nbformat_minor": 2
}
