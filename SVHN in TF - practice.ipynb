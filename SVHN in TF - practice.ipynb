{
 "cells": [
  {
   "cell_type": "code",
   "execution_count": 1,
   "metadata": {},
   "outputs": [
    {
     "name": "stderr",
     "output_type": "stream",
     "text": [
      "/Users/michal/anaconda/lib/python3.6/site-packages/h5py/__init__.py:34: FutureWarning: Conversion of the second argument of issubdtype from `float` to `np.floating` is deprecated. In future, it will be treated as `np.float64 == np.dtype(float).type`.\n",
      "  from ._conv import register_converters as _register_converters\n"
     ]
    }
   ],
   "source": [
    "import numpy as np\n",
    "import pandas as pd\n",
    "import matplotlib.pyplot as plt\n",
    "import tensorflow as tf"
   ]
  },
  {
   "cell_type": "code",
   "execution_count": 2,
   "metadata": {
    "collapsed": true
   },
   "outputs": [],
   "source": [
    "from datetime import datetime\n",
    "from scipy.io import loadmat\n",
    "from sklearn.utils import shuffle"
   ]
  },
  {
   "cell_type": "code",
   "execution_count": 3,
   "metadata": {
    "collapsed": true
   },
   "outputs": [],
   "source": [
    "train = loadmat('./SVHN/train_32x32.mat')\n",
    "test = loadmat('./SVHN/test_32x32.mat')"
   ]
  },
  {
   "cell_type": "code",
   "execution_count": 4,
   "metadata": {},
   "outputs": [
    {
     "name": "stdout",
     "output_type": "stream",
     "text": [
      "(32, 32, 3, 73257)\n",
      "(73257, 1)\n"
     ]
    }
   ],
   "source": [
    "print(train['X'].shape)\n",
    "print(train['y'].shape)"
   ]
  },
  {
   "cell_type": "code",
   "execution_count": 6,
   "metadata": {
    "collapsed": true
   },
   "outputs": [],
   "source": [
    "def rearange(X):\n",
    "    # reshape and normalize\n",
    "    return (X.transpose(3, 0, 1, 2)/255).astype(np.float32)"
   ]
  },
  {
   "cell_type": "code",
   "execution_count": 7,
   "metadata": {
    "collapsed": true
   },
   "outputs": [],
   "source": [
    "def one_hot(y):\n",
    "    ind = np.zeros((len(y), len(set(y))))\n",
    "    for i in range(len(y)):\n",
    "        ind[i, y[i]] = 1\n",
    "    return ind"
   ]
  },
  {
   "cell_type": "code",
   "execution_count": 9,
   "metadata": {
    "collapsed": true
   },
   "outputs": [],
   "source": [
    "Xtrain = rearange(train['X'])\n",
    "Ytrain = one_hot(train['y'].flatten()-1)\n",
    "Xtest = rearange(test['X'])\n",
    "Ytest = one_hot(test['y'].flatten()-1)"
   ]
  },
  {
   "cell_type": "code",
   "execution_count": 10,
   "metadata": {},
   "outputs": [
    {
     "name": "stdout",
     "output_type": "stream",
     "text": [
      "(73257, 32, 32, 3)\n",
      "(73257, 10)\n"
     ]
    }
   ],
   "source": [
    "print(Xtrain.shape)\n",
    "print(Ytrain.shape)"
   ]
  },
  {
   "cell_type": "code",
   "execution_count": 12,
   "metadata": {
    "collapsed": true
   },
   "outputs": [],
   "source": [
    "max_iter = 20\n",
    "print_period = 10\n",
    "batch_sz = 500\n",
    "n_batches = Xtrain.shape[0] // batch_sz"
   ]
  },
  {
   "cell_type": "code",
   "execution_count": 13,
   "metadata": {
    "collapsed": true
   },
   "outputs": [],
   "source": [
    "M1 = 512\n",
    "M2 = 256\n",
    "K = 10"
   ]
  },
  {
   "cell_type": "code",
   "execution_count": 14,
   "metadata": {
    "collapsed": true
   },
   "outputs": [],
   "source": [
    "# change input into tensor variable\n",
    "X = tf.placeholder(tf.float32, shape=(None, 32, 32, 3), name='X')\n",
    "T = tf.placeholder(tf.float32, shape=(None, K), name='T')\n",
    "Y = tf.placeholder(tf.int32, shape=(K), name='Y')"
   ]
  },
  {
   "cell_type": "code",
   "execution_count": 15,
   "metadata": {
    "collapsed": true
   },
   "outputs": [],
   "source": [
    "conv1 = tf.layers.conv2d(\n",
    "      inputs=X,\n",
    "      filters=20,\n",
    "      kernel_size=[5, 5],\n",
    "      padding=\"same\",\n",
    "      use_bias=True,\n",
    "      kernel_initializer=tf.contrib.layers.xavier_initializer(),\n",
    "      activation=tf.nn.relu)"
   ]
  },
  {
   "cell_type": "code",
   "execution_count": 16,
   "metadata": {},
   "outputs": [
    {
     "data": {
      "text/plain": [
       "TensorShape([Dimension(None), Dimension(32), Dimension(32), Dimension(20)])"
      ]
     },
     "execution_count": 16,
     "metadata": {},
     "output_type": "execute_result"
    }
   ],
   "source": [
    "conv1.shape"
   ]
  },
  {
   "cell_type": "code",
   "execution_count": 17,
   "metadata": {
    "collapsed": true
   },
   "outputs": [],
   "source": [
    "# Pooling Layer 1: reduces 28x28 to 16x16\n",
    "pool1 = tf.layers.max_pooling2d(\n",
    "    inputs=conv1, \n",
    "    pool_size=[2, 2], \n",
    "    strides=2)"
   ]
  },
  {
   "cell_type": "code",
   "execution_count": 18,
   "metadata": {},
   "outputs": [
    {
     "data": {
      "text/plain": [
       "TensorShape([Dimension(None), Dimension(16), Dimension(16), Dimension(20)])"
      ]
     },
     "execution_count": 18,
     "metadata": {},
     "output_type": "execute_result"
    }
   ],
   "source": [
    "pool1.shape"
   ]
  },
  {
   "cell_type": "code",
   "execution_count": 19,
   "metadata": {
    "collapsed": true
   },
   "outputs": [],
   "source": [
    "# Convolutional Layer 2 and Pooling Layer 2: reduces 16x16 to 8x8\n",
    "conv2 = tf.layers.conv2d(\n",
    "  inputs=pool1,\n",
    "  filters=64,\n",
    "  kernel_size=[5, 5],\n",
    "  padding=\"same\",\n",
    "  use_bias=True,\n",
    "  kernel_initializer=tf.contrib.layers.xavier_initializer(),\n",
    "  activation=tf.nn.relu)\n",
    "\n",
    "pool2 = tf.layers.max_pooling2d(\n",
    "    inputs=conv2, \n",
    "    pool_size=[2, 2], \n",
    "    strides=2)"
   ]
  },
  {
   "cell_type": "code",
   "execution_count": 20,
   "metadata": {},
   "outputs": [
    {
     "data": {
      "text/plain": [
       "TensorShape([Dimension(None), Dimension(8), Dimension(8), Dimension(64)])"
      ]
     },
     "execution_count": 20,
     "metadata": {},
     "output_type": "execute_result"
    }
   ],
   "source": [
    "pool2.shape"
   ]
  },
  {
   "cell_type": "code",
   "execution_count": 21,
   "metadata": {
    "collapsed": true
   },
   "outputs": [],
   "source": [
    "# Dense Layer: we naow have 64, 8x8 filters we need to flatten\n",
    "pool2_flat = tf.reshape(pool2, [-1, 8 * 8 * 64])\n",
    "dense1 = tf.layers.dense(\n",
    "    inputs=pool2_flat, \n",
    "    units=512, \n",
    "    activation=tf.nn.relu)\n",
    "dropout1 = tf.layers.dropout(inputs=dense1, rate=0.4, training=False)"
   ]
  },
  {
   "cell_type": "code",
   "execution_count": 22,
   "metadata": {
    "collapsed": true
   },
   "outputs": [],
   "source": [
    "dense2 = tf.layers.dense(\n",
    "    inputs=dropout1, \n",
    "    units=256, \n",
    "    activation=tf.nn.relu)\n",
    "dropout2 = tf.layers.dropout(\n",
    "  inputs=dense2, rate=0.4, training=False)"
   ]
  },
  {
   "cell_type": "code",
   "execution_count": 23,
   "metadata": {
    "collapsed": true
   },
   "outputs": [],
   "source": [
    "# Logits Layer\n",
    "logits = tf.layers.dense(inputs=dropout2, units=10)"
   ]
  },
  {
   "cell_type": "code",
   "execution_count": 25,
   "metadata": {
    "collapsed": true
   },
   "outputs": [],
   "source": [
    "# Calculate Loss (for both TRAIN and EVAL modes)\n",
    "loss = tf.reduce_mean(tf.nn.softmax_cross_entropy_with_logits_v2(labels=T, logits=logits))"
   ]
  },
  {
   "cell_type": "code",
   "execution_count": 26,
   "metadata": {
    "collapsed": true
   },
   "outputs": [],
   "source": [
    "# create optimizer\n",
    "train_op = tf.train.RMSPropOptimizer(learning_rate = 0.001, decay=0.9, momentum=0.9, epsilon=1e-10).minimize(loss)"
   ]
  },
  {
   "cell_type": "code",
   "execution_count": 27,
   "metadata": {
    "collapsed": true
   },
   "outputs": [],
   "source": [
    "pred = tf.argmax(input=logits, axis=1)"
   ]
  },
  {
   "cell_type": "code",
   "execution_count": 28,
   "metadata": {
    "collapsed": true
   },
   "outputs": [],
   "source": [
    "def err_rate(p,t):\n",
    "    return np.mean(p!=t)"
   ]
  },
  {
   "cell_type": "code",
   "execution_count": 30,
   "metadata": {
    "scrolled": false
   },
   "outputs": [
    {
     "name": "stdout",
     "output_type": "stream",
     "text": [
      "0 0 2.3120067 0.9131837738168408\n",
      "0 10 2.2633324 0.8037031346035648\n",
      "0 20 2.2378402 0.8042025199754149\n",
      "0 30 2.2331119 0.8041256914566687\n",
      "0 40 2.233218 0.8040488629379225\n",
      "0 50 2.2305307 0.8041256914566687\n",
      "0 60 2.2284353 0.8040872771972957\n",
      "0 70 2.2233257 0.8040872771972957\n",
      "0 80 2.2238874 0.7962891825445605\n",
      "0 90 2.219307 0.8041256914566687\n",
      "0 100 2.0721204 0.7441226183159189\n",
      "0 110 2.181157 0.8040872771972957\n",
      "0 120 2.098613 0.7155424093423479\n",
      "0 130 1.248173 0.38137676705593115\n",
      "0 140 1.0342585 0.3248309772587584\n",
      "1 0 0.9683458 0.30554701905347265\n",
      "1 10 0.7774426 0.2273740012292563\n",
      "1 20 0.7549901 0.22745082974800246\n",
      "1 30 0.705377 0.20651505838967424\n",
      "1 40 0.70539147 0.20651505838967424\n",
      "1 50 0.616582 0.1884219422249539\n",
      "1 60 0.608472 0.17908727719729564\n",
      "1 70 0.5829313 0.1689459127228027\n",
      "1 80 0.5806162 0.16606484326982177\n",
      "1 90 0.57311743 0.1727105101413645\n",
      "1 100 0.5739903 0.16621850030731408\n",
      "1 110 0.5862109 0.1737861094038107\n",
      "1 120 0.54305536 0.16068684695759067\n",
      "1 130 0.5127952 0.1524661954517517\n",
      "1 140 0.5065843 0.14789489858635527\n",
      "2 0 0.5192683 0.14731868469575907\n",
      "2 10 0.5916916 0.15865089121081746\n",
      "2 20 0.5294799 0.1530424093423479\n",
      "2 30 0.6101918 0.18388905961893054\n",
      "2 40 0.57347065 0.16310694529809466\n",
      "2 50 0.57650876 0.16940688383527966\n",
      "2 60 0.53520167 0.15553933620159804\n",
      "2 70 0.5507555 0.15999539028887522\n",
      "2 80 0.48757663 0.13698524892440073\n",
      "2 90 0.54143673 0.15415642286416717\n",
      "2 100 0.512681 0.14674247080516287\n",
      "2 110 0.5266788 0.1490857406269207\n",
      "2 120 0.47533888 0.1397894898586355\n",
      "2 130 0.4869535 0.14213275968039335\n",
      "2 140 0.49580163 0.14101874615857407\n",
      "3 0 0.5046021 0.148740012292563\n",
      "3 10 0.49965867 0.1348340503995083\n",
      "3 20 0.49237984 0.1409419176398279\n",
      "3 30 0.5086878 0.13080055316533498\n",
      "3 40 0.47469017 0.13014751075599262\n",
      "3 50 0.48162726 0.13264443761524278\n",
      "3 60 0.51686794 0.148740012292563\n",
      "3 70 0.4714693 0.1264981561155501\n",
      "3 80 0.48399806 0.13690842040565457\n",
      "3 90 0.5034546 0.14309311616472034\n",
      "3 100 0.490709 0.14051936078672403\n",
      "3 110 0.51166517 0.14605101413644744\n",
      "3 120 0.47816592 0.13529502151198525\n",
      "3 130 0.43030062 0.11766287645974186\n",
      "3 140 0.46160734 0.13114628149969268\n",
      "4 0 0.4429829 0.12776582667486172\n",
      "4 10 0.5429387 0.1367163491087892\n",
      "4 20 0.51123327 0.13517977873386602\n",
      "4 30 0.5122885 0.12457744314689613\n",
      "4 40 0.47454658 0.12507682851874616\n",
      "4 50 0.4879856 0.12765058389674247\n",
      "4 60 0.5563351 0.14443761524277812\n",
      "4 70 0.49197668 0.1367163491087892\n",
      "4 80 0.49622428 0.1323755377996312\n",
      "4 90 0.47703567 0.1320298094652735\n",
      "4 100 0.47890586 0.12914874001229257\n",
      "4 110 0.4877428 0.13364320835894283\n",
      "4 120 0.5076759 0.12949446834665027\n",
      "4 130 0.5121847 0.1309157959434542\n",
      "4 140 0.47765064 0.12968653964351567\n",
      "5 0 0.5392521 0.1402504609711125\n",
      "5 10 0.5079778 0.13026275353411187\n",
      "5 20 0.51289725 0.12031346035648433\n",
      "5 30 0.5169745 0.12784265519360788\n",
      "5 40 0.54827833 0.13905961893054702\n",
      "5 50 0.45833972 0.11777811923786109\n",
      "5 60 0.52212596 0.1270359557467732\n",
      "5 70 0.5360273 0.1333358942839582\n",
      "5 80 0.5358975 0.1264981561155501\n",
      "5 90 0.54798687 0.14086508912108175\n",
      "5 100 0.5026281 0.1298017824216349\n",
      "5 110 0.52157634 0.1210817455439459\n",
      "5 120 0.5464532 0.1273816840811309\n",
      "5 130 0.49871364 0.12138905961893055\n",
      "5 140 0.4661481 0.12188844499078058\n",
      "6 0 0.48605138 0.12234941610325753\n",
      "6 10 0.5239477 0.12396281499692687\n",
      "6 20 0.59612155 0.13460356484326982\n",
      "6 30 0.67489827 0.13356637984019668\n",
      "6 40 0.5538006 0.13153042409342347\n",
      "6 50 0.6335965 0.13356637984019668\n",
      "6 60 0.58093613 0.1347956361401352\n",
      "6 70 0.69488055 0.1448217578365089\n",
      "6 80 0.5679625 0.13975107559926245\n",
      "6 90 0.57458025 0.14712661339889366\n",
      "6 100 0.59758157 0.1238859864781807\n",
      "6 110 0.49489084 0.11893054701905348\n",
      "6 120 0.57078254 0.12042870313460356\n",
      "6 130 0.6331758 0.13322065150583898\n",
      "6 140 0.5019703 0.12745851259987706\n",
      "7 0 0.56461376 0.13790719114935465\n",
      "7 10 0.5918079 0.13053165334972341\n",
      "7 20 0.5687892 0.12822679778733867\n",
      "7 30 0.6269801 0.1175860479409957\n",
      "7 40 0.60893404 0.12400122925629994\n",
      "7 50 0.60472566 0.13007068223724647\n",
      "7 60 0.5968813 0.12150430239704979\n",
      "7 70 0.5713206 0.12949446834665027\n",
      "7 80 0.67559767 0.12311770129071911\n",
      "7 90 0.59618944 0.12857252612169637\n",
      "7 100 0.61546874 0.12937922556853104\n",
      "7 110 0.6606274 0.13560233558696988\n",
      "7 120 0.5560669 0.13233712354025814\n",
      "7 130 0.5593412 0.1353718500307314\n",
      "7 140 0.6843073 0.1326060233558697\n",
      "8 0 0.57514864 0.13571757836508913\n",
      "8 10 0.67209846 0.1339121081745544\n",
      "8 20 0.63863385 0.12507682851874616\n",
      "8 30 0.7743611 0.13264443761524278\n",
      "8 40 0.6796095 0.12730485556238474\n",
      "8 50 0.6728603 0.13007068223724647\n",
      "8 60 0.68516135 0.14647357098955133\n",
      "8 70 0.72715795 0.1453979717271051\n",
      "8 80 0.6842609 0.12492317148125384\n",
      "8 90 0.61746764 0.1298017824216349\n",
      "8 100 0.73924047 0.12718961278426552\n",
      "8 110 0.6694423 0.13395052243392747\n",
      "8 120 0.61492795 0.1389059618930547\n",
      "8 130 0.6010267 0.12457744314689613\n",
      "8 140 0.6692954 0.13164566687154272\n",
      "9 0 0.6129847 0.1309542102028273\n",
      "9 10 0.7515239 0.12008297480024585\n",
      "9 20 0.6969047 0.1198140749846343\n",
      "9 30 0.6299643 0.1213122311001844\n",
      "9 40 0.7308689 0.12461585740626921\n",
      "9 50 0.69697976 0.15400276582667485\n",
      "9 60 0.70807546 0.13763829133374308\n",
      "9 70 0.61558515 0.12861094038106946\n",
      "9 80 0.6181815 0.1259219422249539\n",
      "9 90 0.706708 0.1181238475722188\n",
      "9 100 0.5933952 0.12119698832206514\n",
      "9 110 0.69536865 0.12161954517516903\n",
      "9 120 0.68942034 0.12265673017824216\n",
      "9 130 0.59067947 0.11904578979717272\n",
      "9 140 0.66675395 0.1309542102028273\n",
      "10 0 0.72698474 0.1323755377996312\n",
      "10 10 0.78397113 0.12511524277811925\n",
      "10 20 0.725263 0.12004456054087277\n",
      "10 30 0.71425956 0.12211893054701906\n",
      "10 40 0.7816756 0.1294560540872772\n",
      "10 50 0.8221195 0.12895666871542716\n",
      "10 60 0.72412723 0.1285341118623233\n",
      "10 70 0.7329511 0.13421942224953903\n",
      "10 80 0.8045011 0.128879840196681\n",
      "10 90 0.7067804 0.13675476336816225\n",
      "10 100 0.6622837 0.13821450522433928\n",
      "10 110 0.73963064 0.13637062077443146\n",
      "10 120 0.66221905 0.1270359557467732\n",
      "10 130 0.6786962 0.1383297480024585\n",
      "10 140 0.6768357 0.13433466502765826\n",
      "11 0 0.686364 0.12081284572833435\n",
      "11 10 0.85460067 0.11862323294406883\n",
      "11 20 0.6907945 0.1285341118623233\n",
      "11 30 0.84616715 0.13322065150583898\n",
      "11 40 0.82633483 0.13126152427781193\n",
      "11 50 0.8667143 0.13341272280270436\n",
      "11 60 1.0771143 0.13975107559926245\n",
      "11 70 0.7926658 0.128879840196681\n",
      "11 80 0.8196832 0.12457744314689613\n",
      "11 90 0.73028636 0.11789336201598033\n",
      "11 100 0.7625976 0.13179932390903504\n",
      "11 110 0.82159543 0.12473110018438845\n",
      "11 120 0.73285866 0.1392901044867855\n",
      "11 130 0.86393636 0.1289182544560541\n",
      "11 140 0.9966281 0.13998156115550092\n",
      "12 0 0.8429366 0.13905961893054702\n",
      "12 10 0.84459764 0.12914874001229257\n",
      "12 20 0.78184307 0.12492317148125384\n",
      "12 30 0.94206965 0.12534572833435773\n",
      "12 40 0.78636676 0.1294176398279041\n",
      "12 50 0.80624104 0.12546097111247695\n",
      "12 60 0.9901337 0.12960971112476952\n",
      "12 70 0.8058531 0.12845728334357714\n",
      "12 80 0.7476476 0.1299938537185003\n",
      "12 90 0.830428 0.13940534726490472\n",
      "12 100 0.7391608 0.1409419176398279\n",
      "12 110 0.9145886 0.12488475722188076\n",
      "12 120 0.74711436 0.13829133374308544\n",
      "12 130 0.8450076 0.12826521204671174\n",
      "12 140 0.72868997 0.12469268592501537\n",
      "13 0 0.7950401 0.1268822987092809\n",
      "13 10 0.9959665 0.11919944683466503\n",
      "13 20 0.7823794 0.12058236017209588\n",
      "13 30 0.96698415 0.12749692685925015\n",
      "13 40 0.96698266 0.13126152427781193\n",
      "13 50 0.81944215 0.12991702519975415\n",
      "13 60 0.86449593 0.12085125998770743\n",
      "13 70 0.962628 0.12292562999385372\n",
      "13 80 0.8439454 0.12661339889366932\n",
      "13 90 0.8678145 0.13007068223724647\n",
      "13 100 0.8557257 0.12242624462200369\n",
      "13 110 0.8018043 0.13106945298094652\n",
      "13 120 0.9189702 0.1276121696373694\n",
      "13 130 0.9082948 0.12392440073755379\n",
      "13 140 0.83797246 0.12895666871542716\n",
      "14 0 0.86487097 0.1335279655808236\n",
      "14 10 1.0097066 0.1289182544560541\n",
      "14 20 1.0991989 0.12914874001229257\n",
      "14 30 0.8873086 0.13859864781807008\n",
      "14 40 0.86755556 0.12473110018438845\n",
      "14 50 0.7862824 0.12058236017209588\n",
      "14 60 0.91658854 0.11885371850030732\n",
      "14 70 0.8442894 0.1342578365089121\n",
      "14 80 0.93634987 0.12895666871542716\n",
      "14 90 0.84758455 0.12311770129071911\n",
      "14 100 1.0394499 0.13060848186846957\n",
      "14 110 0.89255446 0.12818838352796558\n",
      "14 120 0.8460482 0.1218500307314075\n",
      "14 130 0.76076394 0.1362937922556853\n",
      "14 140 1.1486294 0.12442378610940381\n",
      "15 0 0.86770505 0.15431007990165949\n",
      "15 10 0.9537441 0.12469268592501537\n",
      "15 20 0.83831966 0.1259219422249539\n",
      "15 30 0.9350762 0.11547326367547633\n",
      "15 40 1.1044376 0.1248079287031346\n",
      "15 50 1.0818099 0.1210817455439459\n"
     ]
    },
    {
     "name": "stdout",
     "output_type": "stream",
     "text": [
      "15 60 1.0892472 0.13291333743085434\n",
      "15 70 0.8889789 0.1411724031960664\n",
      "15 80 1.1871742 0.14770282728948986\n",
      "15 90 0.86385256 0.12142747387830363\n",
      "15 100 1.2699913 0.12995543945912721\n",
      "15 110 0.80119884 0.13448832206515057\n",
      "15 120 0.98613936 0.12334818684695759\n",
      "15 130 0.9347451 0.12281038721573448\n",
      "15 140 0.9477824 0.1309157959434542\n",
      "16 0 1.0187942 0.15772894898586357\n",
      "16 10 0.82518697 0.146319913952059\n",
      "16 20 0.9958476 0.1236939151813153\n",
      "16 30 0.9445276 0.13610172095881992\n",
      "16 40 1.0266601 0.1218500307314075\n",
      "16 50 1.0539024 0.12127381684081132\n",
      "16 60 0.91997206 0.11919944683466503\n",
      "16 70 1.0609062 0.1294176398279041\n",
      "16 80 1.0172825 0.12822679778733867\n",
      "16 90 1.0282156 0.14728027043638597\n",
      "16 100 1.1452755 0.12423171481253842\n",
      "16 110 0.88669276 0.13621696373693915\n",
      "16 120 0.9005647 0.12304087277197295\n",
      "16 130 0.9660103 0.12964812538414258\n",
      "16 140 1.1480923 0.12542255685310388\n",
      "17 0 1.075633 0.12626767055931162\n",
      "17 10 0.9346946 0.13126152427781193\n",
      "17 20 1.0115849 0.12768899815611556\n",
      "17 30 1.0384635 0.11919944683466503\n",
      "17 40 1.0402088 0.1304164105716042\n",
      "17 50 1.1619526 0.13160725261216963\n",
      "17 60 1.4053494 0.1216579594345421\n",
      "17 70 1.2361219 0.1339121081745544\n",
      "17 80 0.9807833 0.14597418561770129\n",
      "17 90 1.1525885 0.13249078057775046\n",
      "17 100 1.1213567 0.13736939151813152\n",
      "17 110 0.9484997 0.1279578979717271\n",
      "17 120 0.8936058 0.125\n",
      "17 130 1.1495702 0.12672864167178857\n",
      "17 140 0.87603486 0.13329748002458514\n",
      "18 0 1.0910243 0.12680547019053473\n",
      "18 10 1.0815333 0.1318761524277812\n",
      "18 20 1.03272 0.13122311001843884\n",
      "18 30 1.0166283 0.13675476336816225\n",
      "18 40 1.4050304 0.12008297480024585\n",
      "18 50 1.4913943 0.12676705593116164\n",
      "18 60 1.2107536 0.12304087277197295\n",
      "18 70 1.2610369 0.14797172710510142\n",
      "18 80 1.1651313 0.14697295636140134\n",
      "18 90 1.1321006 0.12158113091579595\n",
      "18 100 1.160781 0.1362937922556853\n",
      "18 110 1.1612985 0.12715119852489243\n",
      "18 120 1.0002507 0.12231100184388445\n",
      "18 130 1.038168 0.1227719729563614\n",
      "18 140 1.0893881 0.12619084204056547\n",
      "19 0 1.1465944 0.13410417947141978\n",
      "19 10 1.1267426 0.12231100184388445\n",
      "19 20 1.0872405 0.12484634296250768\n",
      "19 30 1.011171 0.13030116779348494\n",
      "19 40 1.2981063 0.12219575906576521\n",
      "19 50 0.86774075 0.13952059004302397\n",
      "19 60 0.9275351 0.131299938537185\n",
      "19 70 1.0892335 0.14144130301167793\n",
      "19 80 1.1085725 0.1227719729563614\n",
      "19 90 1.2998285 0.11843116164720344\n",
      "19 100 1.025181 0.13825291948371235\n",
      "19 110 1.2079562 0.14032728948985865\n",
      "19 120 1.0481522 0.13398893669330056\n",
      "19 130 1.4344827 0.12987861094038106\n",
      "19 140 1.1641294 0.12058236017209588\n"
     ]
    }
   ],
   "source": [
    "LL = []\n",
    "error = []\n",
    "init = tf.global_variables_initializer()\n",
    "with tf.Session() as sess:\n",
    "    sess.run(init)\n",
    "    \n",
    "    for i in range(max_iter):\n",
    "        Xtrain, Ytrain = shuffle(Xtrain, Ytrain)\n",
    "        for j in range(n_batches):\n",
    "            Xbatch = Xtrain[(j*batch_sz):(j*batch_sz + batch_sz), :]\n",
    "            Ybatch = Ytrain[(j*batch_sz):(j*batch_sz + batch_sz), :]\n",
    "            \n",
    "            sess.run(train_op, feed_dict={X : Xbatch, T : Ybatch})\n",
    "            if j % print_period == 0:\n",
    "                loss_val = sess.run(loss, feed_dict={X : Xtest, T : Ytest})\n",
    "                pred_val = sess.run(pred, feed_dict={X : Xtest})\n",
    "                err = err_rate(pred_val, Ytest.argmax(axis=1))\n",
    "                print(i,j,loss_val,err)\n",
    "                LL.append(loss_val)\n",
    "                error.append(err)"
   ]
  },
  {
   "cell_type": "code",
   "execution_count": 31,
   "metadata": {},
   "outputs": [
    {
     "data": {
      "image/png": "[encoded data removed]",
      "text/plain": [
       "<matplotlib.figure.Figure at 0x136d95400>"
      ]
     },
     "metadata": {},
     "output_type": "display_data"
    }
   ],
   "source": [
    "plt.plot(LL)\n",
    "plt.show()"
   ]
  },
  {
   "cell_type": "code",
   "execution_count": 32,
   "metadata": {},
   "outputs": [
    {
     "data": {
      "image/png": "[encoded data removed]",
      "text/plain": [
       "<matplotlib.figure.Figure at 0x12120e588>"
      ]
     },
     "metadata": {},
     "output_type": "display_data"
    }
   ],
   "source": [
    "plt.plot(error)\n",
    "plt.show()"
   ]
  },
  {
   "cell_type": "code",
   "execution_count": null,
   "metadata": {
    "collapsed": true
   },
   "outputs": [],
   "source": []
  }
 ],
 "metadata": {
  "kernelspec": {
   "display_name": "Python 3",
   "language": "python",
   "name": "python3"
  },
  "language_info": {
   "codemirror_mode": {
    "name": "ipython",
    "version": 3
   },
   "file_extension": ".py",
   "mimetype": "text/x-python",
   "name": "python",
   "nbconvert_exporter": "python",
   "pygments_lexer": "ipython3",
   "version": "3.6.1"
  }
 },
 "nbformat": 4,
 "nbformat_minor": 2
}
